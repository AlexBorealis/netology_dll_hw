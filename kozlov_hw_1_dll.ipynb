{
 "cells": [
  {
   "cell_type": "code",
   "execution_count": 1,
   "id": "63277846",
   "metadata": {},
   "outputs": [
    {
     "data": {
      "text/plain": [
       "<torch._C.Generator at 0x788efaf355f0>"
      ]
     },
     "execution_count": 1,
     "metadata": {},
     "output_type": "execute_result"
    }
   ],
   "source": [
    "import torch\n",
    "import torch.nn as nn\n",
    "import torch.optim as optim\n",
    "import torchvision as tv\n",
    "import numpy as np\n",
    "import pandas as pd\n",
    "import matplotlib.pyplot as plt\n",
    "import random\n",
    "device = torch.device('cuda' if torch.cuda.is_available() else 'cpu')\n",
    "device\n",
    "\n",
    "torch.manual_seed(42)"
   ]
  },
  {
   "cell_type": "markdown",
   "id": "5e96785e",
   "metadata": {},
   "source": [
    "**First Experiment**"
   ]
  },
  {
   "cell_type": "code",
   "execution_count": null,
   "id": "bac99d5d",
   "metadata": {},
   "outputs": [],
   "source": [
    "input_size = 28*28\n",
    "hidden_size1 = 512\n",
    "hidden_size2 = 256\n",
    "num_classes = 10\n",
    "num_epochs = 20\n",
    "batch_size = 100\n",
    "learning_rate = .001\n",
    "dropout_rate = .5"
   ]
  },
  {
   "cell_type": "code",
   "execution_count": 3,
   "id": "62095509",
   "metadata": {},
   "outputs": [],
   "source": [
    "train_dataset = tv.datasets.FashionMNIST('.', train=True, transform=tv.transforms.ToTensor(), download=True)\n",
    "test_dataset = tv.datasets.FashionMNIST('.', train=False, transform=tv.transforms.ToTensor(), download=True)\n",
    "train = torch.utils.data.DataLoader(train_dataset, batch_size=batch_size, shuffle=True)\n",
    "test = torch.utils.data.DataLoader(test_dataset, batch_size=batch_size)"
   ]
  },
  {
   "cell_type": "code",
   "execution_count": 4,
   "id": "cfc7779e",
   "metadata": {},
   "outputs": [
    {
     "data": {
      "text/plain": [
       "['T-shirt/top',\n",
       " 'Trouser',\n",
       " 'Pullover',\n",
       " 'Dress',\n",
       " 'Coat',\n",
       " 'Sandal',\n",
       " 'Shirt',\n",
       " 'Sneaker',\n",
       " 'Bag',\n",
       " 'Ankle boot']"
      ]
     },
     "execution_count": 4,
     "metadata": {},
     "output_type": "execute_result"
    }
   ],
   "source": [
    "train_dataset.classes"
   ]
  },
  {
   "cell_type": "code",
   "execution_count": 5,
   "id": "59cdc063",
   "metadata": {},
   "outputs": [
    {
     "data": {
      "text/plain": [
       "torch.Size([60000, 28, 28])"
      ]
     },
     "execution_count": 5,
     "metadata": {},
     "output_type": "execute_result"
    }
   ],
   "source": [
    "train_dataset.data.shape"
   ]
  },
  {
   "cell_type": "code",
   "execution_count": 6,
   "id": "9d20b272",
   "metadata": {},
   "outputs": [],
   "source": [
    "class FashionMNISTNet(nn.Module):\n",
    "    def __init__(self, input_size, hidden_size1, hidden_size2, num_classes):\n",
    "        super(FashionMNISTNet, self).__init__()\n",
    "        self.flatten = nn.Flatten()\n",
    "        self.fc1 = nn.Linear(input_size, hidden_size1)\n",
    "        self.relu1 = nn.ReLU()\n",
    "        self.dropout1 = nn.Dropout(dropout_rate)\n",
    "        self.fc2 = nn.Linear(hidden_size1, hidden_size2)\n",
    "        self.relu2 = nn.ReLU()\n",
    "        self.dropout2 = nn.Dropout(dropout_rate)\n",
    "        self.fc3 = nn.Linear(hidden_size2, num_classes)\n",
    "    \n",
    "    def forward(self, x):\n",
    "        x = self.flatten(x)\n",
    "        x = self.fc1(x)\n",
    "        x = self.relu1(x)\n",
    "        x = self.dropout1(x)\n",
    "        x = self.fc2(x)\n",
    "        x = self.relu2(x)\n",
    "        x = self.dropout2(x)\n",
    "        x = self.fc3(x)\n",
    "        return x"
   ]
  },
  {
   "cell_type": "code",
   "execution_count": 7,
   "id": "26d4d40e",
   "metadata": {},
   "outputs": [],
   "source": [
    "model = FashionMNISTNet(input_size, hidden_size1, hidden_size2, num_classes).to(device)\n",
    "\n",
    "criterion = nn.CrossEntropyLoss()\n",
    "optimizer = optim.Adam(model.parameters(), lr=learning_rate)"
   ]
  },
  {
   "cell_type": "code",
   "execution_count": null,
   "id": "b54380dd",
   "metadata": {},
   "outputs": [],
   "source": [
    "def train_model():\n",
    "    model.train()\n",
    "    for epoch in range(num_epochs):\n",
    "        total_loss = 0\n",
    "        correct = 0\n",
    "        total = 0\n",
    "        for i, (images, labels) in enumerate(train):\n",
    "            images = images.to(device)\n",
    "            labels = labels.to(device)\n",
    "            \n",
    "            outputs = model(images)\n",
    "            loss = criterion(outputs, labels)\n",
    "            \n",
    "            _, predicted = torch.max(outputs.data, 1)\n",
    "            total += labels.size(0)\n",
    "            correct += (predicted == labels).sum().item()\n",
    "            \n",
    "            optimizer.zero_grad()\n",
    "            loss.backward()\n",
    "            optimizer.step()\n",
    "            \n",
    "            total_loss += loss.item()\n",
    "        \n",
    "        accuracy = 100 * correct / total\n",
    "        print(f'Epoch [{epoch+1}/{num_epochs}], Loss: {total_loss/len(train):.4f}, Accuracy: {accuracy:.2f}%')\n",
    "\n",
    "def test_model():\n",
    "    model.eval()\n",
    "    with torch.no_grad():\n",
    "        correct = 0\n",
    "        total = 0\n",
    "        total_loss = 0\n",
    "        for images, labels in test:\n",
    "            images = images.to(device)\n",
    "            labels = labels.to(device)\n",
    "            outputs = model(images)\n",
    "            loss = criterion(outputs, labels)\n",
    "            _, predicted = torch.max(outputs.data, 1)\n",
    "            total += labels.size(0)\n",
    "            correct += (predicted == labels).sum().item()\n",
    "            total_loss += loss.item()\n",
    "        \n",
    "        accuracy = 100 * correct / total\n",
    "        avg_loss = total_loss / len(test)\n",
    "        print(f'Test Loss: {avg_loss:.4f}, Test Accuracy: {accuracy:.2f}%')\n",
    "        return accuracy"
   ]
  },
  {
   "cell_type": "code",
   "execution_count": 9,
   "id": "aa506e3f",
   "metadata": {},
   "outputs": [],
   "source": [
    "def show_classification_results(num_samples=5):\n",
    "    model.eval()\n",
    "    class_names = ['T-shirt/top', 'Trouser', 'Pullover', 'Dress', 'Coat', \n",
    "                   'Sandal', 'Shirt', 'Sneaker', 'Bag', 'Ankle boot']\n",
    "    \n",
    "    test_images, test_labels = next(iter(test))\n",
    "    indices = random.sample(range(len(test_images)), num_samples)\n",
    "    \n",
    "    with torch.no_grad():\n",
    "        images = test_images[indices].to(device)\n",
    "        labels = test_labels[indices].to(device)\n",
    "        outputs = model(images)\n",
    "        _, predicted = torch.max(outputs, 1)\n",
    "        \n",
    "        plt.figure(figsize=(20, 10))\n",
    "        for i in range(num_samples):\n",
    "            plt.subplot(1, num_samples, i + 1)\n",
    "            plt.imshow(images[i].cpu().squeeze(), cmap='gray')\n",
    "            plt.title(f'Pred: {class_names[predicted[i]]}\\nTrue: {class_names[labels[i]]}')\n",
    "            plt.axis('off')\n",
    "        plt.show()"
   ]
  },
  {
   "cell_type": "code",
   "execution_count": 10,
   "id": "7b794c92",
   "metadata": {},
   "outputs": [
    {
     "name": "stdout",
     "output_type": "stream",
     "text": [
      "Training started...\n",
      "Epoch [1/20], Loss: 0.6276, Accuracy: 77.13%\n",
      "Epoch [2/20], Loss: 0.4500, Accuracy: 83.68%\n",
      "Epoch [3/20], Loss: 0.4164, Accuracy: 84.89%\n",
      "Epoch [4/20], Loss: 0.3984, Accuracy: 85.44%\n",
      "Epoch [5/20], Loss: 0.3834, Accuracy: 86.08%\n",
      "Epoch [6/20], Loss: 0.3714, Accuracy: 86.57%\n",
      "Epoch [7/20], Loss: 0.3600, Accuracy: 86.72%\n",
      "Epoch [8/20], Loss: 0.3565, Accuracy: 86.88%\n",
      "Epoch [9/20], Loss: 0.3471, Accuracy: 87.28%\n",
      "Epoch [10/20], Loss: 0.3423, Accuracy: 87.41%\n",
      "Epoch [11/20], Loss: 0.3397, Accuracy: 87.55%\n",
      "Epoch [12/20], Loss: 0.3323, Accuracy: 87.82%\n",
      "Epoch [13/20], Loss: 0.3261, Accuracy: 88.00%\n",
      "Epoch [14/20], Loss: 0.3226, Accuracy: 88.16%\n",
      "Epoch [15/20], Loss: 0.3176, Accuracy: 88.23%\n",
      "Epoch [16/20], Loss: 0.3137, Accuracy: 88.36%\n",
      "Epoch [17/20], Loss: 0.3101, Accuracy: 88.53%\n",
      "Epoch [18/20], Loss: 0.3064, Accuracy: 88.84%\n",
      "Epoch [19/20], Loss: 0.3079, Accuracy: 88.78%\n",
      "Epoch [20/20], Loss: 0.2998, Accuracy: 88.86%\n",
      "\n",
      "Testing model...\n",
      "Test Loss: 0.3249, Test Accuracy: 88.63%\n"
     ]
    }
   ],
   "source": [
    "print(\"Training started...\")\n",
    "train_model()\n",
    "print(\"\\nTesting model...\")\n",
    "test_accuracy = test_model()"
   ]
  },
  {
   "cell_type": "code",
   "execution_count": 11,
   "id": "a10d2702",
   "metadata": {},
   "outputs": [
    {
     "data": {
      "image/png": "[encoded data removed]",
      "text/plain": [
       "<Figure size 2000x1000 with 10 Axes>"
      ]
     },
     "metadata": {},
     "output_type": "display_data"
    }
   ],
   "source": [
    "show_classification_results(10)"
   ]
  },
  {
   "cell_type": "markdown",
   "id": "f96a7935",
   "metadata": {},
   "source": [
    "**Second Experiment**"
   ]
  },
  {
   "cell_type": "code",
   "execution_count": 13,
   "id": "84014fa1",
   "metadata": {},
   "outputs": [],
   "source": [
    "input_size = 28*28\n",
    "hidden_size1 = 512\n",
    "hidden_size2 = 256\n",
    "hidden_size3 = 128\n",
    "num_classes = 10\n",
    "num_epochs = 30\n",
    "batch_size = 256\n",
    "learning_rate = .001\n",
    "dropout_rate = .25"
   ]
  },
  {
   "cell_type": "code",
   "execution_count": 14,
   "id": "a2545fb0",
   "metadata": {},
   "outputs": [],
   "source": [
    "class FashionMNISTNet(nn.Module):\n",
    "    def __init__(self, input_size, hidden_size1, hidden_size2, hidden_size3, num_classes):\n",
    "        super(FashionMNISTNet, self).__init__()\n",
    "        self.flatten = nn.Flatten()\n",
    "        self.fc1 = nn.Linear(input_size, hidden_size1)\n",
    "        self.relu1 = nn.ReLU()\n",
    "        self.dropout1 = nn.Dropout(dropout_rate)\n",
    "        self.fc2 = nn.Linear(hidden_size1, hidden_size2)\n",
    "        self.relu2 = nn.ReLU()\n",
    "        self.dropout2 = nn.Dropout(dropout_rate)\n",
    "        self.fc3 = nn.Linear(hidden_size2, hidden_size3)\n",
    "        self.relu3 = nn.ReLU()\n",
    "        self.dropout3 = nn.Dropout(dropout_rate)\n",
    "        self.fc4 = nn.Linear(hidden_size3, num_classes)\n",
    "    \n",
    "    def forward(self, x):\n",
    "        x = self.flatten(x)\n",
    "        x = self.fc1(x)\n",
    "        x = self.relu1(x)\n",
    "        x = self.dropout1(x)\n",
    "        x = self.fc2(x)\n",
    "        x = self.relu2(x)\n",
    "        x = self.dropout2(x)\n",
    "        x = self.fc3(x)\n",
    "        x = self.relu3(x)\n",
    "        x = self.dropout3(x)\n",
    "        x = self.fc4(x)\n",
    "        return x"
   ]
  },
  {
   "cell_type": "code",
   "execution_count": 15,
   "id": "e4827bad",
   "metadata": {},
   "outputs": [],
   "source": [
    "model = FashionMNISTNet(input_size, hidden_size1, hidden_size2, hidden_size3, num_classes).to(device)\n",
    "\n",
    "criterion = nn.CrossEntropyLoss()\n",
    "optimizer = optim.Adam(model.parameters(), lr=learning_rate)"
   ]
  },
  {
   "cell_type": "code",
   "execution_count": 16,
   "id": "87ebf5f3",
   "metadata": {},
   "outputs": [
    {
     "name": "stdout",
     "output_type": "stream",
     "text": [
      "Training started...\n",
      "Epoch [1/30], Loss: 0.5997, Accuracy: 78.12%\n",
      "Epoch [2/30], Loss: 0.4164, Accuracy: 84.93%\n",
      "Epoch [3/30], Loss: 0.3756, Accuracy: 86.33%\n",
      "Epoch [4/30], Loss: 0.3534, Accuracy: 87.11%\n",
      "Epoch [5/30], Loss: 0.3335, Accuracy: 87.79%\n",
      "Epoch [6/30], Loss: 0.3231, Accuracy: 88.11%\n",
      "Epoch [7/30], Loss: 0.3121, Accuracy: 88.46%\n",
      "Epoch [8/30], Loss: 0.3011, Accuracy: 88.95%\n",
      "Epoch [9/30], Loss: 0.2948, Accuracy: 89.18%\n",
      "Epoch [10/30], Loss: 0.2843, Accuracy: 89.47%\n",
      "Epoch [11/30], Loss: 0.2771, Accuracy: 89.77%\n",
      "Epoch [12/30], Loss: 0.2727, Accuracy: 89.83%\n",
      "Epoch [13/30], Loss: 0.2677, Accuracy: 90.11%\n",
      "Epoch [14/30], Loss: 0.2612, Accuracy: 90.30%\n",
      "Epoch [15/30], Loss: 0.2589, Accuracy: 90.27%\n",
      "Epoch [16/30], Loss: 0.2511, Accuracy: 90.59%\n",
      "Epoch [17/30], Loss: 0.2503, Accuracy: 90.79%\n",
      "Epoch [18/30], Loss: 0.2458, Accuracy: 90.75%\n",
      "Epoch [19/30], Loss: 0.2410, Accuracy: 91.04%\n",
      "Epoch [20/30], Loss: 0.2384, Accuracy: 90.98%\n",
      "Epoch [21/30], Loss: 0.2334, Accuracy: 91.19%\n",
      "Epoch [22/30], Loss: 0.2329, Accuracy: 91.23%\n",
      "Epoch [23/30], Loss: 0.2256, Accuracy: 91.42%\n",
      "Epoch [24/30], Loss: 0.2249, Accuracy: 91.48%\n",
      "Epoch [25/30], Loss: 0.2197, Accuracy: 91.78%\n",
      "Epoch [26/30], Loss: 0.2214, Accuracy: 91.65%\n",
      "Epoch [27/30], Loss: 0.2160, Accuracy: 91.84%\n",
      "Epoch [28/30], Loss: 0.2138, Accuracy: 91.94%\n",
      "Epoch [29/30], Loss: 0.2111, Accuracy: 91.91%\n",
      "Epoch [30/30], Loss: 0.2071, Accuracy: 92.27%\n",
      "\n",
      "Testing model...\n",
      "Test Loss: 0.3150, Test Accuracy: 89.73%\n"
     ]
    }
   ],
   "source": [
    "print(\"Training started...\")\n",
    "train_model()\n",
    "print(\"\\nTesting model...\")\n",
    "test_accuracy = test_model()"
   ]
  },
  {
   "cell_type": "code",
   "execution_count": 24,
   "id": "43e38929",
   "metadata": {},
   "outputs": [
    {
     "data": {
      "image/png": "[encoded data removed]",
      "text/plain": [
       "<Figure size 2000x1000 with 10 Axes>"
      ]
     },
     "metadata": {},
     "output_type": "display_data"
    }
   ],
   "source": [
    "show_classification_results(10)"
   ]
  }
 ],
 "metadata": {
  "kernelspec": {
   "display_name": ".venv",
   "language": "python",
   "name": "python3"
  },
  "language_info": {
   "codemirror_mode": {
    "name": "ipython",
    "version": 3
   },
   "file_extension": ".py",
   "mimetype": "text/x-python",
   "name": "python",
   "nbconvert_exporter": "python",
   "pygments_lexer": "ipython3",
   "version": "3.13.0"
  }
 },
 "nbformat": 4,
 "nbformat_minor": 5
}
