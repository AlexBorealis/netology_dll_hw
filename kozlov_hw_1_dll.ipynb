{
 "cells": [
  {
   "cell_type": "code",
   "execution_count": 22,
   "id": "63277846",
   "metadata": {},
   "outputs": [
    {
     "data": {
      "text/plain": [
       "device(type='cuda')"
      ]
     },
     "execution_count": 22,
     "metadata": {},
     "output_type": "execute_result"
    }
   ],
   "source": [
    "import torch\n",
    "import torch.nn as nn\n",
    "import torch.optim as optim\n",
    "import torchvision as tv\n",
    "import numpy as np\n",
    "import pandas as pd\n",
    "import matplotlib.pyplot as plt\n",
    "import random\n",
    "device = torch.device('cuda' if torch.cuda.is_available() else 'cpu')\n",
    "device"
   ]
  },
  {
   "cell_type": "markdown",
   "id": "5e96785e",
   "metadata": {},
   "source": [
    "**First Experiment**"
   ]
  },
  {
   "cell_type": "code",
   "execution_count": 23,
   "id": "bac99d5d",
   "metadata": {},
   "outputs": [],
   "source": [
    "input_size = 28*28\n",
    "hidden_size1 = 512\n",
    "hidden_size2 = 256\n",
    "num_classes = 10\n",
    "num_epochs = 20\n",
    "batch_size = 100\n",
    "learning_rate = 0.001\n",
    "dropout_rate = 0.5"
   ]
  },
  {
   "cell_type": "code",
   "execution_count": 31,
   "id": "62095509",
   "metadata": {},
   "outputs": [
    {
     "name": "stderr",
     "output_type": "stream",
     "text": [
      "100.0%\n",
      "100.0%\n",
      "100.0%\n",
      "100.0%\n"
     ]
    }
   ],
   "source": [
    "train_dataset = tv.datasets.FashionMNIST('.', train=True, transform=tv.transforms.ToTensor(), download=True)\n",
    "test_dataset = tv.datasets.FashionMNIST('.', train=False, transform=tv.transforms.ToTensor(), download=True)\n",
    "train = torch.utils.data.DataLoader(train_dataset, batch_size=batch_size, shuffle=True)\n",
    "test = torch.utils.data.DataLoader(test_dataset, batch_size=batch_size)"
   ]
  },
  {
   "cell_type": "code",
   "execution_count": 33,
   "id": "cfc7779e",
   "metadata": {},
   "outputs": [
    {
     "data": {
      "text/plain": [
       "['T-shirt/top',\n",
       " 'Trouser',\n",
       " 'Pullover',\n",
       " 'Dress',\n",
       " 'Coat',\n",
       " 'Sandal',\n",
       " 'Shirt',\n",
       " 'Sneaker',\n",
       " 'Bag',\n",
       " 'Ankle boot']"
      ]
     },
     "execution_count": 33,
     "metadata": {},
     "output_type": "execute_result"
    }
   ],
   "source": [
    "train_dataset.classes"
   ]
  },
  {
   "cell_type": "code",
   "execution_count": 63,
   "id": "59cdc063",
   "metadata": {},
   "outputs": [
    {
     "data": {
      "text/plain": [
       "torch.Size([60000, 28, 28])"
      ]
     },
     "execution_count": 63,
     "metadata": {},
     "output_type": "execute_result"
    }
   ],
   "source": [
    "train_dataset.data.shape"
   ]
  },
  {
   "cell_type": "code",
   "execution_count": null,
   "id": "9d20b272",
   "metadata": {},
   "outputs": [],
   "source": [
    "class FashionMNISTNet(nn.Module):\n",
    "    def __init__(self, input_size, hidden_size1, hidden_size2, num_classes):\n",
    "        super(FashionMNISTNet, self).__init__()\n",
    "        self.flatten = nn.Flatten()\n",
    "        self.fc1 = nn.Linear(input_size, hidden_size1)\n",
    "        self.relu1 = nn.ReLU()\n",
    "        self.dropout1 = nn.Dropout(dropout_rate)\n",
    "        self.fc2 = nn.Linear(hidden_size1, hidden_size2)\n",
    "        self.relu2 = nn.ReLU()\n",
    "        self.dropout2 = nn.Dropout(dropout_rate)\n",
    "        self.fc3 = nn.Linear(hidden_size2, num_classes)\n",
    "    \n",
    "    def forward(self, x):\n",
    "        x = self.flatten(x)\n",
    "        x = self.fc1(x)\n",
    "        x = self.relu1(x)\n",
    "        x = self.dropout1(x)\n",
    "        x = self.fc2(x)\n",
    "        x = self.relu2(x)\n",
    "        x = self.dropout2(x)\n",
    "        x = self.fc3(x)\n",
    "        return x"
   ]
  },
  {
   "cell_type": "code",
   "execution_count": 26,
   "id": "26d4d40e",
   "metadata": {},
   "outputs": [],
   "source": [
    "model = FashionMNISTNet(input_size, hidden_size1, hidden_size2, num_classes).to(device)\n",
    "\n",
    "criterion = nn.CrossEntropyLoss()\n",
    "optimizer = optim.Adam(model.parameters(), lr=learning_rate)"
   ]
  },
  {
   "cell_type": "code",
   "execution_count": 27,
   "id": "b54380dd",
   "metadata": {},
   "outputs": [],
   "source": [
    "def train_model():\n",
    "    model.train()\n",
    "    for epoch in range(num_epochs):\n",
    "        total_loss = 0\n",
    "        correct = 0\n",
    "        total = 0\n",
    "        for i, (images, labels) in enumerate(train):\n",
    "            images = images.to(device)\n",
    "            labels = labels.to(device)\n",
    "            \n",
    "            # Forward pass\n",
    "            outputs = model(images)\n",
    "            loss = criterion(outputs, labels)\n",
    "            \n",
    "            # Calculate accuracy\n",
    "            _, predicted = torch.max(outputs.data, 1)\n",
    "            total += labels.size(0)\n",
    "            correct += (predicted == labels).sum().item()\n",
    "            \n",
    "            # Backward and optimize\n",
    "            optimizer.zero_grad()\n",
    "            loss.backward()\n",
    "            optimizer.step()\n",
    "            \n",
    "            total_loss += loss.item()\n",
    "        \n",
    "        accuracy = 100 * correct / total\n",
    "        print(f'Epoch [{epoch+1}/{num_epochs}], Loss: {total_loss/len(train):.4f}, Accuracy: {accuracy:.2f}%')\n",
    "\n",
    "def test_model():\n",
    "    model.eval()\n",
    "    with torch.no_grad():\n",
    "        correct = 0\n",
    "        total = 0\n",
    "        total_loss = 0\n",
    "        for images, labels in test:\n",
    "            images = images.to(device)\n",
    "            labels = labels.to(device)\n",
    "            outputs = model(images)\n",
    "            loss = criterion(outputs, labels)\n",
    "            _, predicted = torch.max(outputs.data, 1)\n",
    "            total += labels.size(0)\n",
    "            correct += (predicted == labels).sum().item()\n",
    "            total_loss += loss.item()\n",
    "        \n",
    "        accuracy = 100 * correct / total\n",
    "        avg_loss = total_loss / len(test)\n",
    "        print(f'Test Loss: {avg_loss:.4f}, Test Accuracy: {accuracy:.2f}%')\n",
    "        return accuracy"
   ]
  },
  {
   "cell_type": "code",
   "execution_count": 41,
   "id": "aa506e3f",
   "metadata": {},
   "outputs": [],
   "source": [
    "def show_classification_results(num_samples=5):\n",
    "    model.eval()\n",
    "    class_names = ['T-shirt/top', 'Trouser', 'Pullover', 'Dress', 'Coat', \n",
    "                   'Sandal', 'Shirt', 'Sneaker', 'Bag', 'Ankle boot']\n",
    "    \n",
    "    test_images, test_labels = next(iter(test))\n",
    "    indices = random.sample(range(len(test_images)), num_samples)\n",
    "    \n",
    "    with torch.no_grad():\n",
    "        images = test_images[indices].to(device)\n",
    "        labels = test_labels[indices].to(device)\n",
    "        outputs = model(images)\n",
    "        _, predicted = torch.max(outputs, 1)\n",
    "        \n",
    "        plt.figure(figsize=(20, 10))\n",
    "        for i in range(num_samples):\n",
    "            plt.subplot(1, num_samples, i + 1)\n",
    "            plt.imshow(images[i].cpu().squeeze(), cmap='gray')\n",
    "            plt.title(f'Pred: {class_names[predicted[i]]}\\nTrue: {class_names[labels[i]]}')\n",
    "            plt.axis('off')\n",
    "        plt.show()"
   ]
  },
  {
   "cell_type": "code",
   "execution_count": 32,
   "id": "7b794c92",
   "metadata": {},
   "outputs": [
    {
     "name": "stdout",
     "output_type": "stream",
     "text": [
      "Training started...\n",
      "Epoch [1/20], Loss: 0.8229, Accuracy: 70.55%\n",
      "Epoch [2/20], Loss: 0.5611, Accuracy: 78.65%\n",
      "Epoch [3/20], Loss: 0.5112, Accuracy: 80.77%\n",
      "Epoch [4/20], Loss: 0.4730, Accuracy: 82.07%\n",
      "Epoch [5/20], Loss: 0.4535, Accuracy: 83.07%\n",
      "Epoch [6/20], Loss: 0.4415, Accuracy: 83.34%\n",
      "Epoch [7/20], Loss: 0.4256, Accuracy: 84.07%\n",
      "Epoch [8/20], Loss: 0.4118, Accuracy: 84.70%\n",
      "Epoch [9/20], Loss: 0.4032, Accuracy: 84.92%\n",
      "Epoch [10/20], Loss: 0.3968, Accuracy: 85.31%\n",
      "Epoch [11/20], Loss: 0.3899, Accuracy: 85.34%\n",
      "Epoch [12/20], Loss: 0.3804, Accuracy: 85.77%\n",
      "Epoch [13/20], Loss: 0.3788, Accuracy: 85.83%\n",
      "Epoch [14/20], Loss: 0.3689, Accuracy: 86.23%\n",
      "Epoch [15/20], Loss: 0.3628, Accuracy: 86.31%\n",
      "Epoch [16/20], Loss: 0.3602, Accuracy: 86.72%\n",
      "Epoch [17/20], Loss: 0.3568, Accuracy: 86.73%\n",
      "Epoch [18/20], Loss: 0.3545, Accuracy: 86.83%\n",
      "Epoch [19/20], Loss: 0.3486, Accuracy: 87.00%\n",
      "Epoch [20/20], Loss: 0.3463, Accuracy: 87.11%\n",
      "\n",
      "Testing model...\n",
      "Test Loss: 0.3544, Test Accuracy: 87.77%\n"
     ]
    }
   ],
   "source": [
    "print(\"Training started...\")\n",
    "train_model()\n",
    "print(\"\\nTesting model...\")\n",
    "test_accuracy = test_model()"
   ]
  },
  {
   "cell_type": "code",
   "execution_count": 44,
   "id": "a10d2702",
   "metadata": {},
   "outputs": [
    {
     "data": {
      "image/png": "[encoded data removed]",
      "text/plain": [
       "<Figure size 2000x1000 with 10 Axes>"
      ]
     },
     "metadata": {},
     "output_type": "display_data"
    }
   ],
   "source": [
    "show_classification_results(10)"
   ]
  },
  {
   "cell_type": "markdown",
   "id": "f96a7935",
   "metadata": {},
   "source": [
    "**Second Experiment**"
   ]
  },
  {
   "cell_type": "code",
   "execution_count": 48,
   "id": "84014fa1",
   "metadata": {},
   "outputs": [],
   "source": [
    "input_size = 28*28\n",
    "hidden_size1 = 512\n",
    "hidden_size2 = 256\n",
    "hidden_size3 = 128\n",
    "num_classes = 10\n",
    "num_epochs = 30\n",
    "batch_size = 256\n",
    "learning_rate = .001\n",
    "dropout_rate = .25"
   ]
  },
  {
   "cell_type": "code",
   "execution_count": 52,
   "id": "a2545fb0",
   "metadata": {},
   "outputs": [],
   "source": [
    "class FashionMNISTNet(nn.Module):\n",
    "    def __init__(self, input_size, hidden_size1, hidden_size2, hidden_size3, num_classes):\n",
    "        super(FashionMNISTNet, self).__init__()\n",
    "        self.flatten = nn.Flatten()\n",
    "        self.fc1 = nn.Linear(input_size, hidden_size1)\n",
    "        self.relu1 = nn.ReLU()\n",
    "        self.dropout1 = nn.Dropout(dropout_rate)\n",
    "        self.fc2 = nn.Linear(hidden_size1, hidden_size2)\n",
    "        self.relu2 = nn.ReLU()\n",
    "        self.dropout2 = nn.Dropout(dropout_rate)\n",
    "        self.fc3 = nn.Linear(hidden_size2, hidden_size3)\n",
    "        self.relu3 = nn.ReLU()\n",
    "        self.dropout3 = nn.Dropout(dropout_rate)\n",
    "        self.fc4 = nn.Linear(hidden_size3, num_classes)\n",
    "    \n",
    "    def forward(self, x):\n",
    "        x = self.flatten(x)\n",
    "        x = self.fc1(x)\n",
    "        x = self.relu1(x)\n",
    "        x = self.dropout1(x)\n",
    "        x = self.fc2(x)\n",
    "        x = self.relu2(x)\n",
    "        x = self.dropout2(x)\n",
    "        x = self.fc3(x)\n",
    "        x = self.relu3(x)\n",
    "        x = self.dropout3(x)\n",
    "        x = self.fc4(x)\n",
    "        return x"
   ]
  },
  {
   "cell_type": "code",
   "execution_count": 53,
   "id": "e4827bad",
   "metadata": {},
   "outputs": [],
   "source": [
    "model = FashionMNISTNet(input_size, hidden_size1, hidden_size2, hidden_size3, num_classes).to(device)\n",
    "\n",
    "criterion = nn.CrossEntropyLoss()\n",
    "optimizer = optim.Adam(model.parameters(), lr=learning_rate)"
   ]
  },
  {
   "cell_type": "code",
   "execution_count": 54,
   "id": "87ebf5f3",
   "metadata": {},
   "outputs": [
    {
     "name": "stdout",
     "output_type": "stream",
     "text": [
      "Training started...\n",
      "Epoch [1/30], Loss: 0.6059, Accuracy: 77.88%\n",
      "Epoch [2/30], Loss: 0.4151, Accuracy: 84.98%\n",
      "Epoch [3/30], Loss: 0.3804, Accuracy: 86.19%\n",
      "Epoch [4/30], Loss: 0.3542, Accuracy: 87.09%\n",
      "Epoch [5/30], Loss: 0.3354, Accuracy: 87.86%\n",
      "Epoch [6/30], Loss: 0.3255, Accuracy: 88.09%\n",
      "Epoch [7/30], Loss: 0.3132, Accuracy: 88.50%\n",
      "Epoch [8/30], Loss: 0.3044, Accuracy: 88.76%\n",
      "Epoch [9/30], Loss: 0.2948, Accuracy: 89.08%\n",
      "Epoch [10/30], Loss: 0.2885, Accuracy: 89.40%\n",
      "Epoch [11/30], Loss: 0.2799, Accuracy: 89.59%\n",
      "Epoch [12/30], Loss: 0.2759, Accuracy: 89.96%\n",
      "Epoch [13/30], Loss: 0.2702, Accuracy: 89.99%\n",
      "Epoch [14/30], Loss: 0.2612, Accuracy: 90.12%\n",
      "Epoch [15/30], Loss: 0.2563, Accuracy: 90.31%\n",
      "Epoch [16/30], Loss: 0.2533, Accuracy: 90.58%\n",
      "Epoch [17/30], Loss: 0.2503, Accuracy: 90.64%\n",
      "Epoch [18/30], Loss: 0.2480, Accuracy: 90.81%\n",
      "Epoch [19/30], Loss: 0.2422, Accuracy: 90.85%\n",
      "Epoch [20/30], Loss: 0.2397, Accuracy: 90.94%\n",
      "Epoch [21/30], Loss: 0.2357, Accuracy: 91.15%\n",
      "Epoch [22/30], Loss: 0.2307, Accuracy: 91.30%\n",
      "Epoch [23/30], Loss: 0.2295, Accuracy: 91.38%\n",
      "Epoch [24/30], Loss: 0.2271, Accuracy: 91.58%\n",
      "Epoch [25/30], Loss: 0.2230, Accuracy: 91.62%\n",
      "Epoch [26/30], Loss: 0.2204, Accuracy: 91.67%\n",
      "Epoch [27/30], Loss: 0.2194, Accuracy: 91.77%\n",
      "Epoch [28/30], Loss: 0.2134, Accuracy: 91.96%\n",
      "Epoch [29/30], Loss: 0.2163, Accuracy: 91.92%\n",
      "Epoch [30/30], Loss: 0.2116, Accuracy: 92.01%\n",
      "\n",
      "Testing model...\n",
      "Test Loss: 0.3076, Test Accuracy: 89.56%\n"
     ]
    }
   ],
   "source": [
    "print(\"Training started...\")\n",
    "train_model()\n",
    "print(\"\\nTesting model...\")\n",
    "test_accuracy = test_model()"
   ]
  },
  {
   "cell_type": "code",
   "execution_count": 58,
   "id": "43e38929",
   "metadata": {},
   "outputs": [
    {
     "data": {
      "image/png": "[encoded data removed]",
      "text/plain": [
       "<Figure size 2000x1000 with 10 Axes>"
      ]
     },
     "metadata": {},
     "output_type": "display_data"
    }
   ],
   "source": [
    "show_classification_results(10)"
   ]
  }
 ],
 "metadata": {
  "kernelspec": {
   "display_name": ".venv",
   "language": "python",
   "name": "python3"
  },
  "language_info": {
   "codemirror_mode": {
    "name": "ipython",
    "version": 3
   },
   "file_extension": ".py",
   "mimetype": "text/x-python",
   "name": "python",
   "nbconvert_exporter": "python",
   "pygments_lexer": "ipython3",
   "version": "3.13.0"
  }
 },
 "nbformat": 4,
 "nbformat_minor": 5
}
