{
  "cells": [
    {
      "cell_type": "code",
      "execution_count": 1,
      "metadata": {
        "colab": {},
        "colab_type": "code",
        "id": "MIEGXF8oM9tt"
      },
      "outputs": [
        {
          "data": {
            "text/plain": [
              "device(type='cuda')"
            ]
          },
          "execution_count": 1,
          "metadata": {},
          "output_type": "execute_result"
        }
      ],
      "source": [
        "from io import open\n",
        "import unicodedata\n",
        "import re\n",
        "import random\n",
        "\n",
        "import torch\n",
        "import torch.nn as nn\n",
        "from torch import optim\n",
        "import torch.nn.functional as F\n",
        "from IPython.display import clear_output\n",
        "from torch.utils.data import TensorDataset, DataLoader, Dataset\n",
        "import matplotlib.pyplot as plt\n",
        "import pandas as pd\n",
        "import numpy as np\n",
        "import time\n",
        "import math\n",
        "import tqdm\n",
        "\n",
        "device = torch.device(\"cuda\" if torch.cuda.is_available() else \"cpu\")\n",
        "device"
      ]
    },
    {
      "cell_type": "code",
      "execution_count": 26,
      "metadata": {
        "colab": {},
        "colab_type": "code",
        "id": "-YlRH3mQM9tf"
      },
      "outputs": [],
      "source": [
        "%matplotlib inline"
      ]
    },
    {
      "cell_type": "code",
      "execution_count": 3,
      "metadata": {
        "colab": {
          "base_uri": "https://localhost:8080/",
          "height": 618
        },
        "colab_type": "code",
        "id": "8UKlPFcBNZl5",
        "outputId": "c4eb79b7-0097-427e-f25c-a5f5e9473449"
      },
      "outputs": [
        {
          "name": "stdout",
          "output_type": "stream",
          "text": [
            "Archive:  rus-eng.zip\n",
            "  inflating: rus.txt                 \n",
            "replace _about.txt? [y]es, [n]o, [A]ll, [N]one, [r]ename: ^C\n"
          ]
        }
      ],
      "source": [
        "!unzip rus-eng.zip"
      ]
    },
    {
      "cell_type": "code",
      "execution_count": null,
      "metadata": {},
      "outputs": [],
      "source": [
        "!mv rus.txt eng-rus.txt"
      ]
    },
    {
      "cell_type": "code",
      "execution_count": null,
      "metadata": {
        "colab": {
          "base_uri": "https://localhost:8080/",
          "height": 213
        },
        "colab_type": "code",
        "id": "twIcAJnyRkW-",
        "outputId": "aae61acf-df6c-4443-8eaa-61a0be531bfa"
      },
      "outputs": [
        {
          "name": "stdout",
          "output_type": "stream",
          "text": [
            "I've heard that you should never date anyone who is less than half your age plus seven. Tom is now 30 years old and Mary is 17. How many years will Tom need to wait until he can start dating Mary?\tЯ слышал, что никогда не следует встречаться с кем-то вдвое младше вас плюс семь лет. Тому 30 лет, a Мэри 17. Сколько лет Тому нужно ждать до тех пор, пока он сможет начать встречаться с Мэри?\tCC-BY 2.0 (France) Attribution: tatoeba.org #10068197 (CK) & #10644473 (notenoughsun)\n",
            "I do have one final ask of you as your president, the same thing I asked when you took a chance on me eight years ago. I'm asking you to believe, not in my ability to bring about change but in yours.\tУ меня же, как у вашего президента, есть к вам последняя просьба. Та же самая, что и восемь лет назад, когда вы оказали мне своё доверие. Я прошу вас верить, но не в мои способности добиться перемен, а в ваши.\tCC-BY 2.0 (France) Attribution: tatoeba.org #5762723 (BHO) & #6390123 (odexed)\n",
            "In today's world, we have to equip all our kids with an education that prepares them for success, regardless of what they look like, or how much their parents make, or the zip code that they live in.\tВ современном мире перед нами стоит задача дать всем нашим детям такое образование, которое настроит их на успех вне зависимости от того, как они выглядят, сколько зарабатывают их родители или какой у них почтовый индекс.\tCC-BY 2.0 (France) Attribution: tatoeba.org #3924477 (BHO) & #5968115 (odexed)\n",
            "Death is something that we're often discouraged to talk about or even think about, but I've realized that preparing for death is one of the most empowering things you can do. Thinking about death clarifies your life.\tСмерть - это зачастую то, разговоры или даже мысли о чем приводят в уныние, но я осознал, что готовность умереть наделяет силой, как ничто другое. Мысль о смерти вносит ясность в твою жизнь.\tCC-BY 2.0 (France) Attribution: tatoeba.org #1969892 (davearms) & #3231553 (kukla)\n",
            "At a moment when our economy is growing, our businesses are creating jobs at the fastest pace since the 1990s, and wages are starting to rise again, we have to make some choices about the kind of country we want to be.\tВ тот момент, когда наша экономика растёт, наши предприятия создают рабочие места наибольшими темпами, начиная с 90-х годов, а зарплаты снова начинают расти, мы должны принять ряд решений относительно того, какой страной мы хотим быть.\tCC-BY 2.0 (France) Attribution: tatoeba.org #3924474 (BHO) & #4509418 (odexed)\n",
            "When I was younger, I hated going to weddings. My grandmothers and aunts would huddle around me, poke me in the side, and giggle \"You're next! You're next!\" They only stopped this nonsense when I began to do the same thing at funerals.\tКогда я была помоложе, я ненавидела ходить на свадьбы. Мои бабушки и тётки толпились вокруг, тыкали меня в бок и говорили, посмеиваясь: «Ты следующая! Ты следующая!». Они перестали нести этот вздор только тогда, когда я начала делать то же самое на похоронах.\tCC-BY 2.0 (France) Attribution: tatoeba.org #2776770 (AlanF_US) & #4311406 (odexed)\n",
            "Since there are usually multiple websites on any given topic, I usually just click the back button when I arrive on any webpage that has pop-up advertising. I just go to the next page found by Google and hope for something less irritating.\tПоскольку сайтов, посвящённых какой-либо теме, как правило, несколько, я обычно просто нажимаю на кнопку \"назад\", если попадаю на страницу со всплывающей рекламой. Я просто перехожу на следующую страницу, найденную гуглом, и надеюсь найти что-то менее раздражающее.\tCC-BY 2.0 (France) Attribution: tatoeba.org #954270 (CK) & #6383010 (odexed)\n",
            "It's so easy to write good example sentences, that even if we accidentally delete a few good sentences in the process of getting rid of a whole lot of bad ones, I think we could drastically improve the quality of this corpus by doing a lot of deleting.\tСоздавать хорошие предложения-примеры так легко, что даже если мы случайно удалим несколько хороших предложений в процессе избавления от кучи плохих, думаю, мы могли бы заметно улучшить качество этого корпуса, удаляя в больших количествах.\tCC-BY 2.0 (France) Attribution: tatoeba.org #933897 (CK) & #3689230 (Ooneykcall)\n",
            "If someone who doesn't know your background says that you sound like a native speaker, it means they probably noticed something about your speaking that made them realize you weren't a native speaker. In other words, you don't really sound like a native speaker.\tЕсли кто-то незнакомый говорит, что вы говорите как носитель языка, это значит, что он, вероятно, заметил что-то в вашей речи, что дало ему понять, что вы не носитель. Другими словами, вы не говорите как носитель.\tCC-BY 2.0 (France) Attribution: tatoeba.org #953936 (CK) & #10644468 (notenoughsun)\n",
            "Doubtless there exists in this world precisely the right woman for any given man to marry and vice versa; but when you consider that a human being has the opportunity of being acquainted with only a few hundred people, and out of the few hundred that there are but a dozen or less whom he knows intimately, and out of the dozen, one or two friends at most, it will easily be seen, when we remember the number of millions who inhabit this world, that probably, since the earth was created, the right man has never yet met the right woman.\tНесомненно, для каждого мужчины в этом мире где-то есть подходящая женщина, которая может стать ему женой, обратное верно и для женщин. Но если учесть, что у человека может быть максимум несколько сотен знакомых, из которых лишь дюжина, а то и меньше, тех, кого он знает близко, а из этой дюжины у него один или от силы два друга, то можно легко увидеть, что с учётом миллионов живущих на Земле людей, ни один подходящий мужчина, возможно, ещё не встретил подходящую женщину.\tCC-BY 2.0 (France) Attribution: tatoeba.org #7697649 (RM) & #7730831 (odexed)\n"
          ]
        }
      ],
      "source": [
        "!tail eng-rus.txt"
      ]
    },
    {
      "cell_type": "code",
      "execution_count": 3,
      "metadata": {
        "colab": {},
        "colab_type": "code",
        "id": "kyNnJyruM9t1"
      },
      "outputs": [],
      "source": [
        "SOS_token = 0\n",
        "EOS_token = 1\n",
        "\n",
        "\n",
        "class Lang:\n",
        "    def __init__(self, name):\n",
        "        self.name = name\n",
        "        self.word2index = {}\n",
        "        self.word2count = {}\n",
        "        self.index2word = {0: \"SOS\", 1: \"EOS\"}\n",
        "        self.n_words = 2  # Count SOS and EOS\n",
        "\n",
        "    def addSentence(self, sentence):\n",
        "        for word in sentence.split(' '):\n",
        "            self.addWord(word)\n",
        "\n",
        "    def addWord(self, word):\n",
        "        if word not in self.word2index:\n",
        "            self.word2index[word] = self.n_words\n",
        "            self.word2count[word] = 1\n",
        "            self.index2word[self.n_words] = word\n",
        "            self.n_words += 1\n",
        "        else:\n",
        "            self.word2count[word] += 1"
      ]
    },
    {
      "cell_type": "code",
      "execution_count": 4,
      "metadata": {
        "colab": {},
        "colab_type": "code",
        "id": "FXKs8j4bM9t6"
      },
      "outputs": [],
      "source": [
        "# Turn a Unicode string to plain ASCII, thanks to\n",
        "# http://stackoverflow.com/a/518232/2809427\n",
        "def unicodeToAscii(s):\n",
        "    parts = s.split('\\t')[:2]\n",
        "\n",
        "    result = []\n",
        "    for part in parts:\n",
        "        normalized = unicodedata.normalize('NFC', part)\n",
        "        result.append(normalized)\n",
        "        \n",
        "    return '\\t'.join(result)\n",
        "\n",
        "# Lowercase, trim, and remove non-letter characters\n",
        "\n",
        "\n",
        "def normalizeString(s):\n",
        "    s = unicodeToAscii(s.lower().strip())\n",
        "    s = re.sub(r\"([.!?])\", r\" \\1\", s)\n",
        "    s = re.sub(r\"[^a-zA-Zа-яА-Яйё.!?]+\", r\" \", s)\n",
        "    return s"
      ]
    },
    {
      "cell_type": "code",
      "execution_count": 5,
      "metadata": {
        "colab": {},
        "colab_type": "code",
        "id": "D8T4VxZeM9t-"
      },
      "outputs": [],
      "source": [
        "def readLangs(lang1, lang2, reverse=False):\n",
        "    print(\"Reading lines...\")\n",
        "\n",
        "    # Read the file and split into lines\n",
        "    lines = open('%s-%s.txt' % (lang1, lang2), encoding='utf-8').\\\n",
        "        read().strip().split('\\n')\n",
        "\n",
        "    # Split every line into pairs and normalize\n",
        "    pairs = [[normalizeString(s) for s in l.split('\\t')][:2] for l in lines]\n",
        "\n",
        "    # Reverse pairs, make Lang instances\n",
        "    if reverse:\n",
        "        pairs = [list(reversed(p)) for p in pairs]\n",
        "        input_lang = Lang(lang2)\n",
        "        output_lang = Lang(lang1)\n",
        "    else:\n",
        "        input_lang = Lang(lang1)\n",
        "        output_lang = Lang(lang2)\n",
        "\n",
        "    return input_lang, output_lang, pairs"
      ]
    },
    {
      "cell_type": "code",
      "execution_count": 7,
      "metadata": {
        "colab": {},
        "colab_type": "code",
        "id": "eBOwgEBdM9uB"
      },
      "outputs": [],
      "source": [
        "MAX_LENGTH = 10\n",
        "\n",
        "eng_prefixes = (\n",
        "    \"i am \", \"i m \",\n",
        "    \"he is\", \"he s \",\n",
        "    \"she is\", \"she s\",\n",
        "    \"you are\", \"you re \",\n",
        "    \"we are\", \"we re \",\n",
        "    \"they are\", \"they re \"\n",
        ")\n",
        "\n",
        "\n",
        "def filterPair(p):\n",
        "    return len(p[0].split(' ')) < MAX_LENGTH and \\\n",
        "        len(p[1].split(' ')) < MAX_LENGTH and \\\n",
        "        p[1].startswith(eng_prefixes)\n",
        "\n",
        "\n",
        "def filterPairs(pairs):\n",
        "    return [pair for pair in pairs if filterPair(pair)]"
      ]
    },
    {
      "cell_type": "code",
      "execution_count": 8,
      "metadata": {
        "colab": {
          "base_uri": "https://localhost:8080/",
          "height": 178
        },
        "colab_type": "code",
        "id": "6dZOGjd5M9uE",
        "outputId": "0cdd3a7f-2ac8-4872-8a81-6101d0bdd0a9"
      },
      "outputs": [
        {
          "name": "stdout",
          "output_type": "stream",
          "text": [
            "Reading lines...\n",
            "Read 519900 sentence pairs\n",
            "Trimmed to 30087 sentence pairs\n",
            "Counting words...\n",
            "Counted words:\n",
            "rus 10529\n",
            "eng 4377\n",
            "['ты в этом не силён .', 'you re not good at this .']\n"
          ]
        }
      ],
      "source": [
        "def prepareData(lang1, lang2, reverse=False):\n",
        "    input_lang, output_lang, pairs = readLangs(lang1, lang2, reverse)\n",
        "    print(\"Read %s sentence pairs\" % len(pairs))\n",
        "    pairs = filterPairs(pairs)\n",
        "    print(\"Trimmed to %s sentence pairs\" % len(pairs))\n",
        "    print(\"Counting words...\")\n",
        "    for pair in pairs:\n",
        "        input_lang.addSentence(pair[0])\n",
        "        output_lang.addSentence(pair[1])\n",
        "    print(\"Counted words:\")\n",
        "    print(input_lang.name, input_lang.n_words)\n",
        "    print(output_lang.name, output_lang.n_words)\n",
        "    return input_lang, output_lang, pairs\n",
        "\n",
        "\n",
        "input_lang, output_lang, pairs = prepareData('eng', 'rus', True)\n",
        "print(random.choice(pairs))"
      ]
    },
    {
      "cell_type": "markdown",
      "metadata": {
        "colab_type": "text",
        "id": "vgtWqznCM9uH"
      },
      "source": [
        "The Encoder\n",
        "-----------\n",
        "\n",
        "\n",
        "\n"
      ]
    },
    {
      "cell_type": "code",
      "execution_count": 9,
      "metadata": {
        "colab": {},
        "colab_type": "code",
        "id": "m9vm9QBWM9uI"
      },
      "outputs": [],
      "source": [
        "class EncoderRNN(nn.Module):\n",
        "    def __init__(self, input_size, hidden_size, num_layers=1, model_type=\"GRU\"):\n",
        "        super(EncoderRNN, self).__init__()\n",
        "        self.hidden_size = hidden_size\n",
        "        self.num_layers = num_layers\n",
        "        self.model_type = model_type\n",
        "\n",
        "        self.embedding = nn.Embedding(input_size, hidden_size)\n",
        "        if model_type == 'LSTM':\n",
        "            self.rnn = nn.LSTM(hidden_size, hidden_size, num_layers=num_layers, batch_first=True)\n",
        "        else:\n",
        "            self.rnn = nn.GRU(hidden_size, hidden_size, num_layers=num_layers, batch_first=True)\n",
        "\n",
        "    def forward(self, input, hidden):\n",
        "        embedded = self.embedding(input)\n",
        "        output = embedded\n",
        "        output, hidden = self.rnn(output, hidden)\n",
        "        return output, hidden\n",
        "\n",
        "    def initHidden(self, batch_size=1):\n",
        "        if self.model_type == \"LSTM\":\n",
        "            return (torch.zeros(self.num_layers, batch_size, self.hidden_size, device=device),\n",
        "                    torch.zeros(self.num_layers, batch_size, self.hidden_size, device=device))\n",
        "        return torch.zeros(self.num_layers, batch_size, self.hidden_size, device=device)"
      ]
    },
    {
      "cell_type": "markdown",
      "metadata": {
        "colab_type": "text",
        "id": "FwLTlgSyM9uK"
      },
      "source": [
        "The Decoder\n",
        "-----------\n",
        "\n",
        "\n"
      ]
    },
    {
      "cell_type": "code",
      "execution_count": 10,
      "metadata": {
        "colab": {},
        "colab_type": "code",
        "id": "PFbuUL1LM9uL"
      },
      "outputs": [],
      "source": [
        "class DecoderRNN(nn.Module):\n",
        "    def __init__(self, hidden_size, output_size, num_layers=1, model_type=\"GRU\"):\n",
        "        super(DecoderRNN, self).__init__()\n",
        "        self.hidden_size = hidden_size\n",
        "        self.num_layers = num_layers\n",
        "        self.model_type = model_type\n",
        "\n",
        "        self.embedding = nn.Embedding(output_size, hidden_size)\n",
        "        if model_type == 'LSTM':\n",
        "            self.rnn = nn.LSTM(hidden_size, hidden_size, num_layers=num_layers, batch_first=True)\n",
        "        else:\n",
        "            self.rnn = nn.GRU(hidden_size, hidden_size, num_layers=num_layers, batch_first=True)\n",
        "        self.out = nn.Linear(hidden_size, output_size)\n",
        "        self.softmax = nn.LogSoftmax(dim=-1)\n",
        "\n",
        "    def forward(self, input, hidden):\n",
        "        output = self.embedding(input)\n",
        "        output = F.relu(output)\n",
        "        output, hidden = self.rnn(output, hidden)\n",
        "        output = self.softmax(self.out(output.squeeze(1)))\n",
        "        return output, hidden\n",
        "\n",
        "    def initHidden(self, batch_size=1):\n",
        "        if self.model_type == \"LSTM\":\n",
        "            return (torch.zeros(self.num_layers, batch_size, self.hidden_size, device=device),\n",
        "                    torch.zeros(self.num_layers, batch_size, self.hidden_size, device=device))\n",
        "        return torch.zeros(self.num_layers, batch_size, self.hidden_size, device=device)"
      ]
    },
    {
      "cell_type": "code",
      "execution_count": 11,
      "metadata": {
        "colab": {},
        "colab_type": "code",
        "id": "z6gGPtXFM9uQ"
      },
      "outputs": [],
      "source": [
        "def indexesFromSentence(lang, sentence):\n",
        "    return [lang.word2index[word] for word in sentence.split(' ')]\n",
        "\n",
        "\n",
        "def tensorFromSentence(lang, sentence):\n",
        "    indexes = indexesFromSentence(lang, sentence)\n",
        "    indexes.append(EOS_token)\n",
        "    return torch.tensor(indexes, dtype=torch.long, device=device).view(-1, 1)\n",
        "\n",
        "\n",
        "def tensorsFromPair(pair):\n",
        "    input_tensor = tensorFromSentence(input_lang, pair[0])\n",
        "    target_tensor = tensorFromSentence(output_lang, pair[1])\n",
        "    return (input_tensor, target_tensor)"
      ]
    },
    {
      "cell_type": "code",
      "execution_count": 12,
      "metadata": {
        "colab": {},
        "colab_type": "code",
        "id": "8Fn8VDv8M9uS"
      },
      "outputs": [],
      "source": [
        "teacher_forcing_ratio = 0.5\n",
        "\n",
        "\n",
        "def train(input_tensor, target_tensor, encoder, decoder, encoder_optimizer, decoder_optimizer, criterion, max_length=MAX_LENGTH):\n",
        "    batch_size = input_tensor.size(0)\n",
        "    encoder_hidden = encoder.initHidden(batch_size)\n",
        "\n",
        "    encoder_optimizer.zero_grad()\n",
        "    decoder_optimizer.zero_grad()\n",
        "\n",
        "    input_length = input_tensor.size(1)\n",
        "    target_length = target_tensor.size(1)\n",
        "\n",
        "    encoder_outputs = torch.zeros(batch_size, max_length, encoder.hidden_size, device=device)\n",
        "\n",
        "    loss = 0\n",
        "\n",
        "    for ei in range(input_length):\n",
        "        encoder_output, encoder_hidden = encoder(input_tensor[:, ei, :], encoder_hidden)\n",
        "        encoder_outputs[:, ei, :] = encoder_output.squeeze(1)\n",
        "\n",
        "    decoder_input = torch.tensor([[SOS_token]] * batch_size, device=device).view(batch_size, 1)\n",
        "\n",
        "    decoder_hidden = encoder_hidden\n",
        "\n",
        "    use_teacher_forcing = True if random.random() < teacher_forcing_ratio else False\n",
        "\n",
        "    if use_teacher_forcing:\n",
        "        # Teacher forcing: Feed the target as the next input\n",
        "        for di in range(target_length):\n",
        "            decoder_output, decoder_hidden = decoder(decoder_input, decoder_hidden)\n",
        "            loss += criterion(decoder_output, target_tensor[:, di, :].squeeze(1))\n",
        "            decoder_input = target_tensor[:, di, :] # Teacher forcing\n",
        "\n",
        "    else:\n",
        "        # Without teacher forcing: use its own predictions as the next input\n",
        "        for di in range(target_length):\n",
        "            decoder_output, decoder_hidden = decoder(decoder_input, decoder_hidden)\n",
        "            _, topi = decoder_output.topk(1)\n",
        "            decoder_input = topi.detach() # detach from history as input\n",
        "\n",
        "            loss += criterion(decoder_output, target_tensor[:, di, :].squeeze(1))\n",
        "            if (decoder_input == EOS_token).any():\n",
        "                break\n",
        "\n",
        "    loss.backward()\n",
        "\n",
        "    encoder_optimizer.step()\n",
        "    decoder_optimizer.step()\n",
        "\n",
        "    return loss.item() / target_length"
      ]
    },
    {
      "cell_type": "code",
      "execution_count": 13,
      "metadata": {
        "colab": {},
        "colab_type": "code",
        "id": "EKsdwPmSM9uU"
      },
      "outputs": [],
      "source": [
        "def asMinutes(s):\n",
        "    m = math.floor(s / 60)\n",
        "    s -= m * 60\n",
        "    return '%dm %ds' % (m, s)\n",
        "\n",
        "\n",
        "def timeSince(since, percent):\n",
        "    now = time.time()\n",
        "    s = now - since\n",
        "    es = s / (percent)\n",
        "    rs = es - s\n",
        "    return '%s (- %s)' % (asMinutes(s), asMinutes(rs))"
      ]
    },
    {
      "cell_type": "code",
      "execution_count": 14,
      "metadata": {
        "colab": {},
        "colab_type": "code",
        "id": "0JXG-RzCM9uZ"
      },
      "outputs": [],
      "source": [
        "plt.switch_backend('agg')\n",
        "import matplotlib.ticker as ticker\n",
        "\n",
        "\n",
        "def showPlot(iterations, points, name):\n",
        "    plt.figure()\n",
        "    fig, ax = plt.subplots()\n",
        "    # this locator puts ticks at regular intervals\n",
        "    loc_y = ticker.MultipleLocator(base=0.2)\n",
        "    ax.yaxis.set_major_locator(loc_y)\n",
        "    ax.plot(iterations, points)\n",
        "    ax.set_xlabel('Iterations')\n",
        "    ax.set_ylabel('Loss')\n",
        "    ax.set_title('Training Loss vs Iterations')\n",
        "    plt.savefig(name)\n",
        "    plt.close()"
      ]
    },
    {
      "cell_type": "code",
      "execution_count": 15,
      "metadata": {
        "colab": {},
        "colab_type": "code",
        "id": "C_z_k5IiM9uX"
      },
      "outputs": [],
      "source": [
        "def trainIters(encoder, decoder, n_iters, name, batch_size=8, print_every=1000, plot_every=1000, learning_rate=0.01):\n",
        "    start = time.time()\n",
        "    plot_losses = []\n",
        "    iterations = []\n",
        "    print_loss_total = 0  # Reset every print_every\n",
        "    plot_loss_total = 0  # Reset every plot_every\n",
        "\n",
        "    encoder_optimizer = optim.SGD(encoder.parameters(), lr=learning_rate)\n",
        "    decoder_optimizer = optim.SGD(decoder.parameters(), lr=learning_rate)\n",
        "    \n",
        "    training_pairs = [tensorsFromPair(random.choice(pairs)) for _ in range(n_iters)]\n",
        "    input_tensors = nn.utils.rnn.pad_sequence([pair[0] for pair in training_pairs], batch_first=True, padding_value=0)\n",
        "    target_tensors = nn.utils.rnn.pad_sequence([pair[1] for pair in training_pairs], batch_first=True, padding_value=0)\n",
        "    dataset = TensorDataset(input_tensors, target_tensors)\n",
        "    dataloader = DataLoader(dataset, batch_size=batch_size, shuffle=True)\n",
        "    \n",
        "    criterion = nn.NLLLoss()\n",
        "    iter_count = 0\n",
        "\n",
        "    for _ in range(1, (n_iters // batch_size) + 1):\n",
        "        for batch_input, batch_target in dataloader:\n",
        "            if iter_count >= n_iters:\n",
        "                break\n",
        "\n",
        "            loss = train(batch_input, batch_target, encoder, decoder, encoder_optimizer, decoder_optimizer, criterion)\n",
        "            print_loss_total += loss * batch_input.size(0)\n",
        "            plot_loss_total += loss * batch_input.size(0)\n",
        "            iter_count += batch_input.size(0)\n",
        "\n",
        "            if iter_count % print_every == 0:\n",
        "                print_loss_avg = print_loss_total / print_every\n",
        "                print_loss_total = 0\n",
        "                print('%s (%d %d%%) %.4f' % (timeSince(start, iter_count / n_iters), iter_count, iter_count / n_iters * 100, print_loss_avg))\n",
        "\n",
        "            if iter_count % plot_every == 0:\n",
        "                plot_loss_avg = plot_loss_total / plot_every\n",
        "                plot_losses.append(plot_loss_avg)\n",
        "                iterations.append(iter_count)\n",
        "                plot_loss_total = 0\n",
        "\n",
        "    showPlot(iterations, plot_losses, name=name)\n",
        "\n",
        "    return plot_losses"
      ]
    },
    {
      "cell_type": "code",
      "execution_count": 16,
      "metadata": {
        "colab": {},
        "colab_type": "code",
        "id": "3Bxf45h6M9ud"
      },
      "outputs": [],
      "source": [
        "def evaluate(encoder, decoder, sentence, max_length=MAX_LENGTH):\n",
        "    with torch.no_grad():\n",
        "        input_tensor = tensorFromSentence(input_lang, sentence)\n",
        "        input_tensor = input_tensor.view(1, -1, 1)\n",
        "        input_length = input_tensor.size(1)\n",
        "\n",
        "        encoder_hidden = encoder.initHidden(batch_size=1)\n",
        "\n",
        "        encoder_outputs = torch.zeros(1, max_length, encoder.hidden_size, device=device)\n",
        "\n",
        "        for ei in range(input_length):\n",
        "            encoder_output, encoder_hidden = encoder(input_tensor[:, ei, :], encoder_hidden)\n",
        "            encoder_outputs[:, ei, :] = encoder_output.squeeze(1)\n",
        "\n",
        "        decoder_input = torch.tensor([[SOS_token]], device=device).view(1, 1)  # SOS\n",
        "\n",
        "        decoder_hidden = encoder_hidden\n",
        "\n",
        "        decoded_words = []\n",
        "\n",
        "        for di in range(max_length):\n",
        "            decoder_output, decoder_hidden = decoder(decoder_input, decoder_hidden)\n",
        "            _, topi = decoder_output.data.topk(1)\n",
        "            if topi.item() == EOS_token:\n",
        "                decoded_words.append('<EOS>')\n",
        "                break\n",
        "            else:\n",
        "                decoded_words.append(output_lang.index2word[topi.item()])\n",
        "\n",
        "            decoder_input = topi.view(1, 1).detach()\n",
        "\n",
        "        return decoded_words"
      ]
    },
    {
      "cell_type": "code",
      "execution_count": 17,
      "metadata": {
        "colab": {},
        "colab_type": "code",
        "id": "1qUmQIGwM9uf"
      },
      "outputs": [],
      "source": [
        "def evaluateRandomly(encoder, decoder, n=10):\n",
        "    for i in range(n):\n",
        "        pair = random.choice(pairs)\n",
        "        print('>', pair[0])\n",
        "        print('=', pair[1])\n",
        "        output_words = evaluate(encoder, decoder, pair[0])\n",
        "        output_sentence = ' '.join(output_words)\n",
        "        print('<', output_sentence)\n",
        "        print('')"
      ]
    },
    {
      "cell_type": "code",
      "execution_count": 27,
      "metadata": {
        "colab": {
          "base_uri": "https://localhost:8080/",
          "height": 301
        },
        "colab_type": "code",
        "id": "s_56t10oM9uh",
        "outputId": "f456b0b8-fc35-4199-fb19-b45c2330bf72"
      },
      "outputs": [
        {
          "name": "stdout",
          "output_type": "stream",
          "text": [
            "2m 1s (- 18m 15s) (10000 10%) 2.4381\n",
            "3m 58s (- 15m 52s) (20000 20%) 1.9237\n",
            "5m 52s (- 13m 43s) (30000 30%) 1.7019\n",
            "7m 52s (- 11m 48s) (40000 40%) 1.5405\n",
            "9m 48s (- 9m 48s) (50000 50%) 1.3952\n",
            "11m 44s (- 7m 49s) (60000 60%) 1.2749\n",
            "13m 38s (- 5m 50s) (70000 70%) 1.1887\n",
            "15m 35s (- 3m 53s) (80000 80%) 1.1077\n",
            "17m 31s (- 1m 56s) (90000 90%) 1.0561\n",
            "19m 27s (- 0m 0s) (100000 100%) 0.9891\n"
          ]
        }
      ],
      "source": [
        "hidden_size = 256\n",
        "batch_size = 1\n",
        "encoder1 = EncoderRNN(input_lang.n_words, hidden_size).to(device)\n",
        "decoder1 = DecoderRNN(hidden_size, output_lang.n_words).to(device)\n",
        "\n",
        "losses_gru_1_layer = trainIters(encoder1, decoder1, 100000, batch_size=batch_size, print_every=10000, plot_every=10000, name='GRU_1_layer.png')"
      ]
    },
    {
      "cell_type": "code",
      "execution_count": 36,
      "metadata": {
        "colab": {},
        "colab_type": "code",
        "id": "xEoEylSyM9uj"
      },
      "outputs": [
        {
          "name": "stdout",
          "output_type": "stream",
          "text": [
            "> завтра я буду играть в футбол .\n",
            "= i am going to play soccer tomorrow .\n",
            "< i m going to play tomorrow tomorrow . <EOS>\n",
            "\n",
            "> мы попусту тратим время .\n",
            "= we re wasting time .\n",
            "< we re wasting time time time . <EOS>\n",
            "\n",
            "> я так за это благодарен .\n",
            "= i m so grateful for that .\n",
            "< i m so grateful for that that . . <EOS>\n",
            "\n",
            "> я богатый .\n",
            "= i m rich .\n",
            "< i m going to australia this next year . <EOS>\n",
            "\n",
            "> вы то мне и нужны .\n",
            "= you re the one i need now .\n",
            "< you re tired and i me i . <EOS>\n",
            "\n",
            "> надеюсь мы тебе не мешаем .\n",
            "= we re not disturbing you i hope .\n",
            "< we re not as we can you . . <EOS>\n",
            "\n",
            "> прости я не могу тебе помочь .\n",
            "= i m sorry i can t help you .\n",
            "< i m sorry i can t help you . <EOS>\n",
            "\n",
            "> я очень рад за тома .\n",
            "= i m very happy for tom .\n",
            "< i m really happy for tom tom . <EOS>\n",
            "\n",
            "> я не занят сегодня вечером .\n",
            "= i m not busy tonight .\n",
            "< i m not so tired this evening . <EOS>\n",
            "\n",
            "> вы будете знаменитыми .\n",
            "= you re going to be famous .\n",
            "< you re going to be working this . . <EOS>\n",
            "\n",
            "> мне понадобится несколько добровольцев .\n",
            "= i m going to need some volunteers .\n",
            "< i m going to need it so much . <EOS>\n",
            "\n",
            "> он мошенник .\n",
            "= he s a con artist .\n",
            "< he is a good man for a good . .\n",
            "\n",
            "> я с тобой откровенен .\n",
            "= i m being candid with you .\n",
            "< i m about the with you with . . .\n",
            "\n",
            "> он зол на весь мир .\n",
            "= he s angry at the world .\n",
            "< he is angry at the phone . <EOS>\n",
            "\n",
            "> я рада что вы об этом попросили .\n",
            "= i m glad you asked that .\n",
            "< i m glad it you about it . . <EOS>\n",
            "\n",
            "> я интересуюсь музыкой .\n",
            "= i am interested in music .\n",
            "< i m interested in this it . . . <EOS>\n",
            "\n",
            "> я действительно горжусь тем что я канадка .\n",
            "= i m really proud to be canadian .\n",
            "< i m really proud of be canadian . <EOS>\n",
            "\n",
            "> мне правда очень жаль .\n",
            "= i m really very sorry .\n",
            "< i m really very sorry about this . <EOS>\n",
            "\n",
            "> ты лучше тома .\n",
            "= you re better than tom .\n",
            "< you re better better than than tom tom . <EOS>\n",
            "\n",
            "> я не собираюсь тебе врать .\n",
            "= i m not going to lie to you .\n",
            "< i m not going to lie to you . <EOS>\n",
            "\n"
          ]
        }
      ],
      "source": [
        "evaluateRandomly(encoder1, decoder1, 20)"
      ]
    },
    {
      "cell_type": "code",
      "execution_count": 35,
      "metadata": {},
      "outputs": [],
      "source": [
        "pd.DataFrame({\n",
        "    'iterations': np.arange(start=10000, stop=110000, step=10000),\n",
        "    'losses': losses_gru_1_layer\n",
        "}).to_csv('losses_GRU_1_layer.csv')"
      ]
    },
    {
      "cell_type": "markdown",
      "metadata": {},
      "source": [
        "# **The RNN with 2 GRU layers**"
      ]
    },
    {
      "cell_type": "code",
      "execution_count": 37,
      "metadata": {},
      "outputs": [
        {
          "name": "stdout",
          "output_type": "stream",
          "text": [
            "2m 31s (- 22m 42s) (10000 10%) 2.3870\n",
            "4m 54s (- 19m 39s) (20000 20%) 1.9418\n",
            "7m 16s (- 16m 58s) (30000 30%) 1.7025\n",
            "9m 43s (- 14m 35s) (40000 40%) 1.5286\n",
            "12m 8s (- 12m 8s) (50000 50%) 1.3752\n",
            "14m 35s (- 9m 43s) (60000 60%) 1.2390\n",
            "17m 3s (- 7m 18s) (70000 70%) 1.1230\n",
            "19m 30s (- 4m 52s) (80000 80%) 1.0522\n",
            "21m 59s (- 2m 26s) (90000 90%) 0.9665\n",
            "24m 27s (- 0m 0s) (100000 100%) 0.9149\n"
          ]
        }
      ],
      "source": [
        "hidden_size = 256\n",
        "batch_size = 1\n",
        "encoder2 = EncoderRNN(input_lang.n_words, hidden_size, num_layers=2).to(device)\n",
        "decoder2 = DecoderRNN(hidden_size, output_lang.n_words, num_layers=2).to(device)\n",
        "\n",
        "losses_gru_2_layers = trainIters(encoder2, decoder2, 100000, batch_size=batch_size, print_every=10000, plot_every=10000, name='GRU_2_layer.png')"
      ]
    },
    {
      "cell_type": "code",
      "execution_count": 40,
      "metadata": {},
      "outputs": [
        {
          "name": "stdout",
          "output_type": "stream",
          "text": [
            "> он настроен довольно оптимистично .\n",
            "= he is rather optimistic .\n",
            "< he is very busy it well . <EOS>\n",
            "\n",
            "> она постелила на стол скатерть .\n",
            "= she spread a cloth over the table .\n",
            "< she is on to to on the . . <EOS>\n",
            "\n",
            "> теперь ты один из нас .\n",
            "= you re now one of us .\n",
            "< you re now now now old now . <EOS>\n",
            "\n",
            "> мы на нужном этаже .\n",
            "= we re on the right floor .\n",
            "< we are on the minutes of the . <EOS>\n",
            "\n",
            "> мы подумываем о переезде .\n",
            "= we re thinking about moving .\n",
            "< we re thinking about our it . . <EOS>\n",
            "\n",
            "> я пытаюсь сохранить тебе жизнь .\n",
            "= i m trying to keep you alive .\n",
            "< i m trying to to to your money . <EOS>\n",
            "\n",
            "> ты очень застенчивый .\n",
            "= you re very shy .\n",
            "< you re very very very you too . <EOS>\n",
            "\n",
            "> он с нетерпением этого ждёт .\n",
            "= he is looking forward to it .\n",
            "< he is looking forward to it it . <EOS>\n",
            "\n",
            "> мы точно не знаем что это значит .\n",
            "= we re not sure what it means .\n",
            "< we re not sure what it means . <EOS>\n",
            "\n",
            "> я звоню чтобы сказать вам спасибо .\n",
            "= i m calling to thank you .\n",
            "< i m calling to thank you . <EOS>\n",
            "\n",
            "> он фантазёр .\n",
            "= he is a dreamer .\n",
            "< he s what it was . <EOS>\n",
            "\n",
            "> мне трудно концентрировать внимание .\n",
            "= i m having a hard time concentrating .\n",
            "< i m having trouble next week . <EOS>\n",
            "\n",
            "> вы моя начальница .\n",
            "= you re my boss .\n",
            "< you re my best my best . <EOS>\n",
            "\n",
            "> он занят .\n",
            "= he is busy .\n",
            "< he s busy busy busy busy so busy . <EOS>\n",
            "\n",
            "> я слишком устал .\n",
            "= i m too tired .\n",
            "< i m too tired to do . <EOS>\n",
            "\n",
            "> я высокий .\n",
            "= i am tall .\n",
            "< i m tall tall as i am . <EOS>\n",
            "\n",
            "> ты за мной .\n",
            "= you re after me .\n",
            "< you re responsible me . <EOS>\n",
            "\n",
            "> он хорошо знает английскую литературу .\n",
            "= he is well read in english literature .\n",
            "< he is well in in english english . <EOS>\n",
            "\n",
            "> я поражена что том ещё живой .\n",
            "= i m amazed tom is still alive .\n",
            "< i m amazed tom is still alive . <EOS>\n",
            "\n",
            "> я в два раза старше тома .\n",
            "= i m twice as old as tom .\n",
            "< i m twice as old as tom . <EOS>\n",
            "\n"
          ]
        }
      ],
      "source": [
        "evaluateRandomly(encoder2, decoder2, 20)"
      ]
    },
    {
      "cell_type": "code",
      "execution_count": 41,
      "metadata": {},
      "outputs": [],
      "source": [
        "pd.DataFrame({\n",
        "    'iterations': np.arange(start=10000, stop=110000, step=10000),\n",
        "    'losses': losses_gru_2_layers\n",
        "}).to_csv('losses_GRU_2_layer.csv')"
      ]
    },
    {
      "cell_type": "markdown",
      "metadata": {},
      "source": [
        "# **The RNN with 2 GRU layers with batches**"
      ]
    },
    {
      "cell_type": "code",
      "execution_count": 42,
      "metadata": {},
      "outputs": [
        {
          "name": "stdout",
          "output_type": "stream",
          "text": [
            "1m 32s (- 13m 51s) (60000 10%) 2.2331\n",
            "2m 25s (- 9m 40s) (120000 20%) 1.7802\n",
            "3m 17s (- 7m 40s) (180000 30%) 1.5841\n",
            "4m 10s (- 6m 15s) (240000 40%) 1.4402\n",
            "5m 3s (- 5m 3s) (300000 50%) 1.3194\n",
            "5m 57s (- 3m 58s) (360000 60%) 1.2258\n",
            "6m 50s (- 2m 55s) (420000 70%) 1.1317\n",
            "7m 43s (- 1m 55s) (480000 80%) 1.0455\n",
            "8m 36s (- 0m 57s) (540000 90%) 0.9758\n",
            "9m 28s (- 0m 0s) (600000 100%) 0.9015\n"
          ]
        }
      ],
      "source": [
        "hidden_size = 256\n",
        "batch_size = 16\n",
        "encoder3 = EncoderRNN(input_lang.n_words, hidden_size, num_layers=2).to(device)\n",
        "decoder3 = DecoderRNN(hidden_size, output_lang.n_words, num_layers=2).to(device)\n",
        "\n",
        "losses_gru_2_layers_with_batches = trainIters(\n",
        "    encoder3, decoder3, 600000, batch_size=batch_size, print_every=60000, plot_every=60000, name='GRU_2_layer_with_batches.png'\n",
        ")"
      ]
    },
    {
      "cell_type": "code",
      "execution_count": 61,
      "metadata": {},
      "outputs": [
        {
          "name": "stdout",
          "output_type": "stream",
          "text": [
            "> вы идиот .\n",
            "= you re an idiot .\n",
            "< you re making me and you are that . <EOS>\n",
            "\n",
            "> я единственная кому ты можешь доверять .\n",
            "= i m the only one you can trust .\n",
            "< i m the only one you can trust . <EOS>\n",
            "\n",
            "> я уже не голоден .\n",
            "= i m no longer hungry .\n",
            "< i m not hungry anymore anymore now . <EOS>\n",
            "\n",
            "> ты ошибаешься .\n",
            "= you re wrong .\n",
            "< you re wrong about what you ? <EOS>\n",
            "\n",
            "> я отпускаю бороду .\n",
            "= i m growing a beard .\n",
            "< i m beginning to meet french . <EOS>\n",
            "\n",
            "> я не уверена что том готов .\n",
            "= i m not sure tom is ready .\n",
            "< i m not sure tom will be here . <EOS>\n",
            "\n",
            "> я готова вам помочь .\n",
            "= i m ready to help you .\n",
            "< i m ready to help you here . <EOS>\n",
            "\n",
            "> я не об этом .\n",
            "= i m not talking about that .\n",
            "< i m not talking about that . <EOS>\n",
            "\n",
            "> он лежит на скамейке .\n",
            "= he is lying on the bench .\n",
            "< he is working on his room . <EOS>\n",
            "\n",
            "> прости что наорал на тебя вчера .\n",
            "= i m sorry for yelling at you yesterday .\n",
            "< i m sorry for what you have a job .\n",
            "\n",
            "> я еду в центр города .\n",
            "= i m going downtown .\n",
            "< i m going to the next . <EOS>\n",
            "\n",
            "> вас никогда нет дома .\n",
            "= you re never at home .\n",
            "< you re never home on it . <EOS>\n",
            "\n",
            "> я действительно рад это слышать .\n",
            "= i m really glad to hear that .\n",
            "< i m really glad to hear that . <EOS>\n",
            "\n",
            "> я не лузерша .\n",
            "= i m not a loser .\n",
            "< i m not not in my father . <EOS>\n",
            "\n",
            "> я считаю себя довольно находчивым .\n",
            "= i m pretty creative i think .\n",
            "< i m pretty sure i have a good . <EOS>\n",
            "\n",
            "> мы не родственники .\n",
            "= we aren t related .\n",
            "< we re not expecting of anything anymore . <EOS>\n",
            "\n",
            "> вы женщина которую я люблю .\n",
            "= you re the woman i love .\n",
            "< you re the me i can with the truth .\n",
            "\n",
            "> я отважный .\n",
            "= i m adventurous .\n",
            "< i m aware of what s my . <EOS>\n",
            "\n",
            "> я почти дописал отчёт .\n",
            "= i m almost finished writing the report .\n",
            "< i m almost proud of our health . <EOS>\n",
            "\n",
            "> простите что утром опоздал .\n",
            "= i m sorry i was late this morning .\n",
            "< i m sorry i can help you . <EOS>\n",
            "\n"
          ]
        }
      ],
      "source": [
        "evaluateRandomly(encoder3, decoder3, 20)"
      ]
    },
    {
      "cell_type": "code",
      "execution_count": null,
      "metadata": {},
      "outputs": [],
      "source": [
        "pd.DataFrame({\n",
        "    'iterations': np.arange(start=60000, stop=660000, step=60000),\n",
        "    'losses': losses_gru_2_layers_with_batches\n",
        "}).to_csv('losses_GRU_2_layer_with_batches.csv')"
      ]
    },
    {
      "cell_type": "markdown",
      "metadata": {},
      "source": [
        "# **The RNN with 2 LSTM layers with batches**"
      ]
    },
    {
      "cell_type": "code",
      "execution_count": 62,
      "metadata": {},
      "outputs": [
        {
          "name": "stdout",
          "output_type": "stream",
          "text": [
            "1m 32s (- 13m 50s) (60000 10%) 2.3784\n",
            "2m 26s (- 9m 46s) (120000 20%) 1.8262\n",
            "3m 20s (- 7m 47s) (180000 30%) 1.6332\n",
            "4m 14s (- 6m 22s) (240000 40%) 1.5111\n",
            "5m 10s (- 5m 10s) (300000 50%) 1.3793\n",
            "6m 6s (- 4m 4s) (360000 60%) 1.2707\n",
            "7m 1s (- 3m 0s) (420000 70%) 1.1757\n",
            "7m 57s (- 1m 59s) (480000 80%) 1.0851\n",
            "8m 52s (- 0m 59s) (540000 90%) 1.0005\n",
            "9m 49s (- 0m 0s) (600000 100%) 0.9299\n"
          ]
        }
      ],
      "source": [
        "hidden_size = 256\n",
        "batch_size = 16\n",
        "encoder4 = EncoderRNN(input_lang.n_words, hidden_size, num_layers=2, model_type=\"LSTM\").to(device)\n",
        "decoder4 = DecoderRNN(hidden_size, output_lang.n_words, num_layers=2, model_type=\"LSTM\").to(device)\n",
        "\n",
        "losses_lstm_2_layers_batches = trainIters(\n",
        "    encoder4, decoder4, 600000, batch_size=batch_size, print_every=60000, plot_every=60000, name='LSTM_2_layer_with_batches.png'\n",
        ")"
      ]
    },
    {
      "cell_type": "code",
      "execution_count": 63,
      "metadata": {},
      "outputs": [
        {
          "name": "stdout",
          "output_type": "stream",
          "text": [
            "> он готов к работе .\n",
            "= he is ready to work .\n",
            "< he is used to do this . <EOS>\n",
            "\n",
            "> мы в порядке .\n",
            "= we re fine .\n",
            "< we re busy with tom . <EOS>\n",
            "\n",
            "> мы вам не враги .\n",
            "= we re not your enemy .\n",
            "< we re not your like you are . <EOS>\n",
            "\n",
            "> я твоя а ты мой .\n",
            "= i am yours and you are mine .\n",
            "< i m giving you my father . <EOS>\n",
            "\n",
            "> ты к себе слишком строг .\n",
            "= you re too hard on yourself .\n",
            "< you re too old for this job . <EOS>\n",
            "\n",
            "> ты из бостона так ведь ?\n",
            "= you re from boston right ?\n",
            "< you re busy from boston aren t you ? <EOS>\n",
            "\n",
            "> ты действительно очень продуктивна сегодня .\n",
            "= you are really very productive today .\n",
            "< you re very very but today . <EOS>\n",
            "\n",
            "> ему за сорок .\n",
            "= he s over forty .\n",
            "< he is about to his with . <EOS>\n",
            "\n",
            "> я не уверен что том что то сделал .\n",
            "= i m not sure tom did anything .\n",
            "< i m not sure tom tom not here . <EOS>\n",
            "\n",
            "> том я дома .\n",
            "= i m home tom .\n",
            "< i m thinking of tom s here . <EOS>\n",
            "\n",
            "> она разведена .\n",
            "= she s divorced .\n",
            "< she is what she her her . <EOS>\n",
            "\n",
            "> он устал смотреть телевизор .\n",
            "= he is tired of watching television .\n",
            "< he is tired of my health about this . <EOS>\n",
            "\n",
            "> у меня сегодня выходной .\n",
            "= i am off today .\n",
            "< i m going to be a busy today . <EOS>\n",
            "\n",
            "> он ниже своего брата .\n",
            "= he s shorter than his brother .\n",
            "< he is his father s father s father . <EOS>\n",
            "\n",
            "> они не плавают в реке .\n",
            "= they aren t swimming in the river .\n",
            "< they re not going to be a child . <EOS>\n",
            "\n",
            "> я рад что ты была здесь .\n",
            "= i m glad you were here .\n",
            "< i m glad you re here here . <EOS>\n",
            "\n",
            "> у меня шизофрения .\n",
            "= i m schizophrenic .\n",
            "< i m not my my father . <EOS>\n",
            "\n",
            "> она в туалете .\n",
            "= she s in the bathroom .\n",
            "< she is able to the in this . <EOS>\n",
            "\n",
            "> я слишком худа .\n",
            "= i m too thin .\n",
            "< i m too old for my job . <EOS>\n",
            "\n",
            "> тебе нельзя в эту комнату .\n",
            "= you aren t allowed in this room .\n",
            "< you re not allowed to be this room . <EOS>\n",
            "\n"
          ]
        }
      ],
      "source": [
        "evaluateRandomly(encoder4, decoder4, n=20)"
      ]
    },
    {
      "cell_type": "code",
      "execution_count": 64,
      "metadata": {},
      "outputs": [],
      "source": [
        "pd.DataFrame({\n",
        "    'iterations': np.arange(start=60000, stop=660000, step=60000),\n",
        "    'losses': losses_lstm_2_layers_batches\n",
        "}).to_csv('losses_LSTM_2_layer_with_batches.csv')"
      ]
    },
    {
      "cell_type": "markdown",
      "metadata": {},
      "source": [
        "# **Results**"
      ]
    },
    {
      "cell_type": "markdown",
      "metadata": {},
      "source": [
        "## **Learning without batches**"
      ]
    },
    {
      "cell_type": "code",
      "execution_count": null,
      "metadata": {},
      "outputs": [
        {
          "data": {
            "text/html": [
              "<div>\n",
              "<style scoped>\n",
              "    .dataframe tbody tr th:only-of-type {\n",
              "        vertical-align: middle;\n",
              "    }\n",
              "\n",
              "    .dataframe tbody tr th {\n",
              "        vertical-align: top;\n",
              "    }\n",
              "\n",
              "    .dataframe thead th {\n",
              "        text-align: right;\n",
              "    }\n",
              "</style>\n",
              "<table border=\"1\" class=\"dataframe\">\n",
              "  <thead>\n",
              "    <tr style=\"text-align: right;\">\n",
              "      <th></th>\n",
              "      <th>iterations</th>\n",
              "      <th>losses_gru_1_layer</th>\n",
              "      <th>losses_gru_2_layer</th>\n",
              "    </tr>\n",
              "  </thead>\n",
              "  <tbody>\n",
              "    <tr>\n",
              "      <th>0</th>\n",
              "      <td>10000</td>\n",
              "      <td>2.438052</td>\n",
              "      <td>2.386977</td>\n",
              "    </tr>\n",
              "    <tr>\n",
              "      <th>1</th>\n",
              "      <td>20000</td>\n",
              "      <td>1.923676</td>\n",
              "      <td>1.941801</td>\n",
              "    </tr>\n",
              "    <tr>\n",
              "      <th>2</th>\n",
              "      <td>30000</td>\n",
              "      <td>1.701919</td>\n",
              "      <td>1.702461</td>\n",
              "    </tr>\n",
              "    <tr>\n",
              "      <th>3</th>\n",
              "      <td>40000</td>\n",
              "      <td>1.540455</td>\n",
              "      <td>1.528623</td>\n",
              "    </tr>\n",
              "    <tr>\n",
              "      <th>4</th>\n",
              "      <td>50000</td>\n",
              "      <td>1.395160</td>\n",
              "      <td>1.375168</td>\n",
              "    </tr>\n",
              "    <tr>\n",
              "      <th>5</th>\n",
              "      <td>60000</td>\n",
              "      <td>1.274914</td>\n",
              "      <td>1.238966</td>\n",
              "    </tr>\n",
              "    <tr>\n",
              "      <th>6</th>\n",
              "      <td>70000</td>\n",
              "      <td>1.188735</td>\n",
              "      <td>1.123015</td>\n",
              "    </tr>\n",
              "    <tr>\n",
              "      <th>7</th>\n",
              "      <td>80000</td>\n",
              "      <td>1.107739</td>\n",
              "      <td>1.052250</td>\n",
              "    </tr>\n",
              "    <tr>\n",
              "      <th>8</th>\n",
              "      <td>90000</td>\n",
              "      <td>1.056065</td>\n",
              "      <td>0.966535</td>\n",
              "    </tr>\n",
              "    <tr>\n",
              "      <th>9</th>\n",
              "      <td>100000</td>\n",
              "      <td>0.989086</td>\n",
              "      <td>0.914892</td>\n",
              "    </tr>\n",
              "  </tbody>\n",
              "</table>\n",
              "</div>"
            ],
            "text/plain": [
              "   iterations  losses_gru_1_layer  losses_gru_2_layer\n",
              "0       10000            2.438052            2.386977\n",
              "1       20000            1.923676            1.941801\n",
              "2       30000            1.701919            1.702461\n",
              "3       40000            1.540455            1.528623\n",
              "4       50000            1.395160            1.375168\n",
              "5       60000            1.274914            1.238966\n",
              "6       70000            1.188735            1.123015\n",
              "7       80000            1.107739            1.052250\n",
              "8       90000            1.056065            0.966535\n",
              "9      100000            0.989086            0.914892"
            ]
          },
          "execution_count": 31,
          "metadata": {},
          "output_type": "execute_result"
        }
      ],
      "source": [
        "df_without_batches = pd.read_csv('losses_GRU_1_layer.csv').loc[:, ['iterations', 'losses']]\\\n",
        "    .merge(pd.read_csv('losses_GRU_2_layer.csv').loc[:, ['iterations', 'losses']], \n",
        "          on='iterations', suffixes=('_gru_1_layer', '_gru_2_layer'))\n",
        "df_without_batches"
      ]
    },
    {
      "cell_type": "code",
      "execution_count": 38,
      "metadata": {},
      "outputs": [
        {
          "data": {
            "image/png": "[encoded data removed]",
            "text/plain": [
              "<Figure size 2000x1000 with 1 Axes>"
            ]
          },
          "metadata": {},
          "output_type": "display_data"
        }
      ],
      "source": [
        "plt.figure(figsize=(20, 10))\n",
        "plt.plot(\n",
        "    df_without_batches['iterations'], df_without_batches['losses_gru_1_layer'],\n",
        "    label=f'GRU 1 Layer (Min: {min(df_without_batches['losses_gru_1_layer']):.4f} at {df_without_batches['losses_gru_1_layer'].idxmin()})',\n",
        "    color='blue'\n",
        ")\n",
        "plt.plot(\n",
        "    df_without_batches['iterations'], df_without_batches['losses_gru_2_layer'],\n",
        "    label=f'GRU 1 Layer (Min: {min(df_without_batches['losses_gru_2_layer']):.4f} at {df_without_batches['losses_gru_2_layer'].idxmin()})',\n",
        "    color='red'\n",
        ")\n",
        "\n",
        "plt.axhline(y=min(df_without_batches['losses_gru_1_layer']), color='blue', linestyle='--', alpha=0.5)\n",
        "plt.axhline(y=min(df_without_batches['losses_gru_2_layer']), color='red', linestyle='--', alpha=0.5)\n",
        "\n",
        "plt.text(\n",
        "    75000, min(df_without_batches['losses_gru_1_layer']) + 0.02, \n",
        "    f'Min: {min(df_without_batches['losses_gru_1_layer']):.4f}', \n",
        "    color='blue', ha='left', va='bottom'\n",
        ")\n",
        "plt.text(\n",
        "    75000, min(df_without_batches['losses_gru_2_layer']) + 0.02, \n",
        "    f'Min: {min(df_without_batches['losses_gru_2_layer']):.4f}', \n",
        "    color='red', ha='left', va='bottom'\n",
        ")\n",
        "\n",
        "plt.xlabel('Iterations')\n",
        "plt.ylabel('Loss')\n",
        "plt.title('Loss Comparison: GRU 1 Layer vs GRU 2 Layer')\n",
        "plt.legend()\n",
        "plt.grid(True)\n",
        "plt.show()"
      ]
    },
    {
      "cell_type": "markdown",
      "metadata": {},
      "source": [
        "## **Learning with batches**"
      ]
    },
    {
      "cell_type": "code",
      "execution_count": 32,
      "metadata": {},
      "outputs": [
        {
          "data": {
            "text/html": [
              "<div>\n",
              "<style scoped>\n",
              "    .dataframe tbody tr th:only-of-type {\n",
              "        vertical-align: middle;\n",
              "    }\n",
              "\n",
              "    .dataframe tbody tr th {\n",
              "        vertical-align: top;\n",
              "    }\n",
              "\n",
              "    .dataframe thead th {\n",
              "        text-align: right;\n",
              "    }\n",
              "</style>\n",
              "<table border=\"1\" class=\"dataframe\">\n",
              "  <thead>\n",
              "    <tr style=\"text-align: right;\">\n",
              "      <th></th>\n",
              "      <th>iterations</th>\n",
              "      <th>losses_gru_2_layer_with_batches</th>\n",
              "      <th>losses_lstm_2_layer_with_batches</th>\n",
              "    </tr>\n",
              "  </thead>\n",
              "  <tbody>\n",
              "    <tr>\n",
              "      <th>0</th>\n",
              "      <td>60000</td>\n",
              "      <td>1.940614</td>\n",
              "      <td>2.378394</td>\n",
              "    </tr>\n",
              "    <tr>\n",
              "      <th>1</th>\n",
              "      <td>120000</td>\n",
              "      <td>1.677536</td>\n",
              "      <td>1.826167</td>\n",
              "    </tr>\n",
              "    <tr>\n",
              "      <th>2</th>\n",
              "      <td>180000</td>\n",
              "      <td>1.516446</td>\n",
              "      <td>1.633247</td>\n",
              "    </tr>\n",
              "    <tr>\n",
              "      <th>3</th>\n",
              "      <td>240000</td>\n",
              "      <td>1.390096</td>\n",
              "      <td>1.511084</td>\n",
              "    </tr>\n",
              "    <tr>\n",
              "      <th>4</th>\n",
              "      <td>300000</td>\n",
              "      <td>1.270509</td>\n",
              "      <td>1.379327</td>\n",
              "    </tr>\n",
              "    <tr>\n",
              "      <th>5</th>\n",
              "      <td>360000</td>\n",
              "      <td>1.176743</td>\n",
              "      <td>1.270703</td>\n",
              "    </tr>\n",
              "    <tr>\n",
              "      <th>6</th>\n",
              "      <td>420000</td>\n",
              "      <td>1.090164</td>\n",
              "      <td>1.175737</td>\n",
              "    </tr>\n",
              "    <tr>\n",
              "      <th>7</th>\n",
              "      <td>480000</td>\n",
              "      <td>1.014410</td>\n",
              "      <td>1.085085</td>\n",
              "    </tr>\n",
              "    <tr>\n",
              "      <th>8</th>\n",
              "      <td>540000</td>\n",
              "      <td>0.951193</td>\n",
              "      <td>1.000509</td>\n",
              "    </tr>\n",
              "    <tr>\n",
              "      <th>9</th>\n",
              "      <td>600000</td>\n",
              "      <td>0.871196</td>\n",
              "      <td>0.929861</td>\n",
              "    </tr>\n",
              "  </tbody>\n",
              "</table>\n",
              "</div>"
            ],
            "text/plain": [
              "   iterations  losses_gru_2_layer_with_batches  \\\n",
              "0       60000                         1.940614   \n",
              "1      120000                         1.677536   \n",
              "2      180000                         1.516446   \n",
              "3      240000                         1.390096   \n",
              "4      300000                         1.270509   \n",
              "5      360000                         1.176743   \n",
              "6      420000                         1.090164   \n",
              "7      480000                         1.014410   \n",
              "8      540000                         0.951193   \n",
              "9      600000                         0.871196   \n",
              "\n",
              "   losses_lstm_2_layer_with_batches  \n",
              "0                          2.378394  \n",
              "1                          1.826167  \n",
              "2                          1.633247  \n",
              "3                          1.511084  \n",
              "4                          1.379327  \n",
              "5                          1.270703  \n",
              "6                          1.175737  \n",
              "7                          1.085085  \n",
              "8                          1.000509  \n",
              "9                          0.929861  "
            ]
          },
          "execution_count": 32,
          "metadata": {},
          "output_type": "execute_result"
        }
      ],
      "source": [
        "df_with_batches = pd.read_csv('losses_GRU_2_layer_with_batches.csv').loc[:, ['iterations', 'losses']]\\\n",
        "    .merge(pd.read_csv('losses_LSTM_2_layer_with_batches.csv').loc[:, ['iterations', 'losses']], \n",
        "          on='iterations', suffixes=('_gru_2_layer_with_batches', '_lstm_2_layer_with_batches'))\n",
        "df_with_batches"
      ]
    },
    {
      "cell_type": "code",
      "execution_count": 39,
      "metadata": {},
      "outputs": [
        {
          "data": {
            "image/png": "[encoded data removed]",
            "text/plain": [
              "<Figure size 2000x1000 with 1 Axes>"
            ]
          },
          "metadata": {},
          "output_type": "display_data"
        }
      ],
      "source": [
        "plt.figure(figsize=(20, 10))\n",
        "plt.plot(\n",
        "    df_with_batches['iterations'], df_with_batches['losses_gru_2_layer_with_batches'],\n",
        "    label=f'GRU 2 Layer (Min: {min(df_with_batches['losses_gru_2_layer_with_batches']):.4f} at {df_with_batches['losses_gru_2_layer_with_batches'].idxmin()})',\n",
        "    color='blue'\n",
        ")\n",
        "plt.plot(\n",
        "    df_with_batches['iterations'], df_with_batches['losses_lstm_2_layer_with_batches'],\n",
        "    label=f'LSTM 2 Layer (Min: {min(df_with_batches['losses_lstm_2_layer_with_batches']):.4f} at {df_with_batches['losses_lstm_2_layer_with_batches'].idxmin()})',\n",
        "    color='red'\n",
        ")\n",
        "\n",
        "plt.axhline(y=min(df_with_batches['losses_gru_2_layer_with_batches']), color='blue', linestyle='--', alpha=0.5)\n",
        "plt.axhline(y=min(df_with_batches['losses_lstm_2_layer_with_batches']), color='red', linestyle='--', alpha=0.5)\n",
        "\n",
        "plt.text(\n",
        "    75000, min(df_with_batches['losses_gru_2_layer_with_batches']) + 0.02, \n",
        "    f'Min: {min(df_with_batches['losses_gru_2_layer_with_batches']):.4f}', \n",
        "    color='blue', ha='left', va='bottom'\n",
        ")\n",
        "plt.text(\n",
        "    75000, min(df_with_batches['losses_lstm_2_layer_with_batches']) + 0.02, \n",
        "    f'Min: {min(df_with_batches['losses_lstm_2_layer_with_batches']):.4f}', \n",
        "    color='red', ha='left', va='bottom'\n",
        ")\n",
        "\n",
        "plt.xlabel('Iterations')\n",
        "plt.ylabel('Loss')\n",
        "plt.title('Loss Comparison: GRU 2 Layer vs LSTM 2 Layer')\n",
        "plt.legend()\n",
        "plt.grid(True)\n",
        "plt.show()"
      ]
    },
    {
      "cell_type": "markdown",
      "metadata": {},
      "source": [
        "# **The RNN with 2 GRU layers with batches final**"
      ]
    },
    {
      "cell_type": "code",
      "execution_count": 18,
      "metadata": {},
      "outputs": [
        {
          "name": "stdout",
          "output_type": "stream",
          "text": [
            "2m 38s (- 23m 48s) (100000 10%) 2.0465\n",
            "4m 9s (- 16m 38s) (200000 20%) 1.5827\n",
            "5m 43s (- 13m 20s) (300000 30%) 1.3586\n",
            "7m 17s (- 10m 56s) (400000 40%) 1.1873\n",
            "8m 53s (- 8m 53s) (500000 50%) 1.0432\n",
            "10m 28s (- 6m 59s) (600000 60%) 0.9153\n",
            "12m 3s (- 5m 10s) (700000 70%) 0.8089\n",
            "13m 39s (- 3m 24s) (800000 80%) 0.7187\n",
            "15m 14s (- 1m 41s) (900000 90%) 0.6428\n",
            "16m 50s (- 0m 0s) (1000000 100%) 0.5689\n"
          ]
        }
      ],
      "source": [
        "hidden_size = 256\n",
        "batch_size = 16\n",
        "encoder5 = EncoderRNN(input_lang.n_words, hidden_size, num_layers=2, model_type=\"GRU\").to(device)\n",
        "decoder5 = DecoderRNN(hidden_size, output_lang.n_words, num_layers=2, model_type=\"GRU\").to(device)\n",
        "\n",
        "losses_gru_2_layers_batches_final = trainIters(\n",
        "    encoder5, decoder5, 1000000, batch_size=batch_size, print_every=100000, plot_every=100000, name='GRU_2_layer_with_batches_final.png'\n",
        ")"
      ]
    },
    {
      "cell_type": "code",
      "execution_count": 29,
      "metadata": {},
      "outputs": [
        {
          "name": "stdout",
          "output_type": "stream",
          "text": [
            "> я рад что вы знаете правду .\n",
            "= i m glad you know the truth .\n",
            "< i m glad you know the truth . <EOS>\n",
            "\n",
            "> извини . я забыла об этом .\n",
            "= i m sorry . i forgot about this .\n",
            "< i m sorry . i forgot about this . <EOS>\n",
            "\n",
            "> я рад что тебя послушал .\n",
            "= i m glad i listened to you .\n",
            "< i m glad i was to you . <EOS>\n",
            "\n",
            "> я не настолько умный .\n",
            "= i m not that smart .\n",
            "< i m not so smart than i am . <EOS>\n",
            "\n",
            "> я иду на юг .\n",
            "= i m going south .\n",
            "< i m going to my my room . <EOS>\n",
            "\n",
            "> она на встрече .\n",
            "= she s at a meeting .\n",
            "< she is at a and english at home . <EOS>\n",
            "\n",
            "> они не дают пройти .\n",
            "= they are in the way .\n",
            "< they are in the same way . <EOS>\n",
            "\n",
            "> она старше тома .\n",
            "= she s older than tom .\n",
            "< she is two years older than tom . <EOS>\n",
            "\n",
            "> я начинаю привыкать к этой жаре .\n",
            "= i m getting used to this hot weather .\n",
            "< i m getting used to this kind of work .\n",
            "\n",
            "> я беспокойный .\n",
            "= i m restless .\n",
            "< i m aware . <EOS>\n",
            "\n",
            "> мы беспокоимся за тебя .\n",
            "= we re worried about you .\n",
            "< we re worried about you about that . <EOS>\n",
            "\n",
            "> ты моя единственная подруга .\n",
            "= you re my only friend .\n",
            "< you re my only old my father . <EOS>\n",
            "\n",
            "> они все говорят о его смерти .\n",
            "= they re all talking about his death .\n",
            "< they are all talking about his children . <EOS>\n",
            "\n",
            "> ты значительно выше тома .\n",
            "= you re way taller than tom .\n",
            "< you re way taller taller than tom . <EOS>\n",
            "\n",
            "> это я всё организовал .\n",
            "= i m the one who organized everything .\n",
            "< i m the one who should do that . <EOS>\n",
            "\n",
            "> я здесь всего на несколько часов .\n",
            "= i m only here for a few hours .\n",
            "< i m only here for a new job . <EOS>\n",
            "\n",
            "> я плохая мать .\n",
            "= i m a bad mother .\n",
            "< i m a pretty good mother of her . <EOS>\n",
            "\n",
            "> теперь я наконец свободна .\n",
            "= i m finally free now .\n",
            "< i m staying about going to australia . <EOS>\n",
            "\n",
            "> мы забегаем вперёд .\n",
            "= we re getting ahead of ourselves .\n",
            "< we re getting learning french . <EOS>\n",
            "\n",
            "> со мной сейчас всё в порядке .\n",
            "= i m all right now .\n",
            "< i m all right now . <EOS>\n",
            "\n"
          ]
        }
      ],
      "source": [
        "evaluateRandomly(encoder5, decoder5, n=20)"
      ]
    },
    {
      "cell_type": "code",
      "execution_count": 20,
      "metadata": {},
      "outputs": [],
      "source": [
        "pd.DataFrame({\n",
        "    'iterations': np.arange(start=100000, stop=1100000, step=100000),\n",
        "    'losses': losses_gru_2_layers_batches_final\n",
        "}).to_csv('losses_GRU_2_layer_with_batches_final.csv')"
      ]
    },
    {
      "cell_type": "code",
      "execution_count": 21,
      "metadata": {},
      "outputs": [
        {
          "data": {
            "text/html": [
              "<div>\n",
              "<style scoped>\n",
              "    .dataframe tbody tr th:only-of-type {\n",
              "        vertical-align: middle;\n",
              "    }\n",
              "\n",
              "    .dataframe tbody tr th {\n",
              "        vertical-align: top;\n",
              "    }\n",
              "\n",
              "    .dataframe thead th {\n",
              "        text-align: right;\n",
              "    }\n",
              "</style>\n",
              "<table border=\"1\" class=\"dataframe\">\n",
              "  <thead>\n",
              "    <tr style=\"text-align: right;\">\n",
              "      <th></th>\n",
              "      <th>iterations</th>\n",
              "      <th>losses</th>\n",
              "    </tr>\n",
              "  </thead>\n",
              "  <tbody>\n",
              "    <tr>\n",
              "      <th>0</th>\n",
              "      <td>100000</td>\n",
              "      <td>2.046508</td>\n",
              "    </tr>\n",
              "    <tr>\n",
              "      <th>1</th>\n",
              "      <td>200000</td>\n",
              "      <td>1.582700</td>\n",
              "    </tr>\n",
              "    <tr>\n",
              "      <th>2</th>\n",
              "      <td>300000</td>\n",
              "      <td>1.358642</td>\n",
              "    </tr>\n",
              "    <tr>\n",
              "      <th>3</th>\n",
              "      <td>400000</td>\n",
              "      <td>1.187330</td>\n",
              "    </tr>\n",
              "    <tr>\n",
              "      <th>4</th>\n",
              "      <td>500000</td>\n",
              "      <td>1.043197</td>\n",
              "    </tr>\n",
              "    <tr>\n",
              "      <th>5</th>\n",
              "      <td>600000</td>\n",
              "      <td>0.915279</td>\n",
              "    </tr>\n",
              "    <tr>\n",
              "      <th>6</th>\n",
              "      <td>700000</td>\n",
              "      <td>0.808931</td>\n",
              "    </tr>\n",
              "    <tr>\n",
              "      <th>7</th>\n",
              "      <td>800000</td>\n",
              "      <td>0.718721</td>\n",
              "    </tr>\n",
              "    <tr>\n",
              "      <th>8</th>\n",
              "      <td>900000</td>\n",
              "      <td>0.642824</td>\n",
              "    </tr>\n",
              "    <tr>\n",
              "      <th>9</th>\n",
              "      <td>1000000</td>\n",
              "      <td>0.568896</td>\n",
              "    </tr>\n",
              "  </tbody>\n",
              "</table>\n",
              "</div>"
            ],
            "text/plain": [
              "   iterations    losses\n",
              "0      100000  2.046508\n",
              "1      200000  1.582700\n",
              "2      300000  1.358642\n",
              "3      400000  1.187330\n",
              "4      500000  1.043197\n",
              "5      600000  0.915279\n",
              "6      700000  0.808931\n",
              "7      800000  0.718721\n",
              "8      900000  0.642824\n",
              "9     1000000  0.568896"
            ]
          },
          "execution_count": 21,
          "metadata": {},
          "output_type": "execute_result"
        }
      ],
      "source": [
        "df_with_batches_final = pd.read_csv('losses_GRU_2_layer_with_batches_final.csv').loc[:, ['iterations', 'losses']]\n",
        "df_with_batches_final"
      ]
    },
    {
      "cell_type": "code",
      "execution_count": 28,
      "metadata": {},
      "outputs": [
        {
          "data": {
            "image/png": "[encoded data removed]",
            "text/plain": [
              "<Figure size 2000x1000 with 1 Axes>"
            ]
          },
          "metadata": {},
          "output_type": "display_data"
        }
      ],
      "source": [
        "plt.figure(figsize=(20, 10))\n",
        "plt.plot(\n",
        "    df_with_batches_final['iterations'], df_with_batches_final['losses'],\n",
        "    label=f'GRU 2 Layer (Min: {min(df_with_batches_final['losses']):.4f} at {df_with_batches_final['losses'].idxmin()})',\n",
        "    color='blue'\n",
        ")\n",
        "\n",
        "plt.axhline(y=min(df_with_batches_final['losses']), color='blue', linestyle='--', alpha=0.5)\n",
        "\n",
        "plt.text(\n",
        "    750000, min(df_with_batches_final['losses']) + 0.02, \n",
        "    f'Min: {min(df_with_batches_final['losses']):.4f}', \n",
        "    color='blue', ha='left', va='bottom'\n",
        ")\n",
        "\n",
        "plt.xlabel('Iterations')\n",
        "plt.ylabel('Loss')\n",
        "plt.title('Loss: GRU 2 Layer')\n",
        "plt.legend()\n",
        "plt.grid(True)\n",
        "plt.show()"
      ]
    },
    {
      "cell_type": "markdown",
      "metadata": {},
      "source": [
        "# **Выводы**"
      ]
    },
    {
      "cell_type": "markdown",
      "metadata": {},
      "source": [
        "## **1. При добавлении второго скрытого слоя, точность модели растет (на ~5-10%)**\n",
        "## **2. При обработке данных по батчам, увеличивается число итераций, необходимых для обучения, но также растет и скорость обработки и качество модели**\n",
        "## **3. На мой взгляд, качество у всех моделей примерно на на одном уровне, но видно что, еще можно обучить модели и далее, но за счет небольшого количества обучающих примеров, качество сильно не прирастет**"
      ]
    }
  ],
  "metadata": {
    "accelerator": "GPU",
    "colab": {
      "name": "Лекция 8.ipynb",
      "provenance": []
    },
    "kernelspec": {
      "display_name": ".venv",
      "language": "python",
      "name": "python3"
    },
    "language_info": {
      "codemirror_mode": {
        "name": "ipython",
        "version": 3
      },
      "file_extension": ".py",
      "mimetype": "text/x-python",
      "name": "python",
      "nbconvert_exporter": "python",
      "pygments_lexer": "ipython3",
      "version": "3.13.0"
    }
  },
  "nbformat": 4,
  "nbformat_minor": 0
}
