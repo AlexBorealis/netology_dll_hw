{
 "cells": [
  {
   "cell_type": "code",
   "execution_count": 1,
   "id": "636592fa",
   "metadata": {},
   "outputs": [
    {
     "data": {
      "text/plain": [
       "device(type='cuda')"
      ]
     },
     "execution_count": 1,
     "metadata": {},
     "output_type": "execute_result"
    }
   ],
   "source": [
    "import torch\n",
    "import torch.nn as nn\n",
    "import torch.optim as optim\n",
    "import pandas as pd\n",
    "import numpy as np\n",
    "import random\n",
    "import time\n",
    "import re\n",
    "import tqdm\n",
    "import matplotlib.pyplot as plt\n",
    "from IPython.display import clear_output\n",
    "from torch.utils.data import TensorDataset, DataLoader, Dataset\n",
    "\n",
    "device = torch.device(\"cuda\" if torch.cuda.is_available() else \"cpu\")\n",
    "torch.manual_seed(1111)\n",
    "random.seed(1111)\n",
    "\n",
    "device"
   ]
  },
  {
   "cell_type": "markdown",
   "id": "26677f39",
   "metadata": {},
   "source": [
    "# **Utils**"
   ]
  },
  {
   "cell_type": "code",
   "execution_count": 57,
   "id": "61f2a69b",
   "metadata": {},
   "outputs": [],
   "source": [
    "def generate_sequences(seq_length, num_samples):\n",
    "    X = np.random.randint(0, 10, size=(num_samples, seq_length))\n",
    "    Y = np.zeros_like(X)\n",
    "    Y[:, 0] = X[:, 0]\n",
    "    Y[:, 1:] = (X[:, 1:] + X[:, 0:1]) % 10\n",
    "    return X, Y\n",
    "\n",
    "\n",
    "class SequenceDataset(Dataset):\n",
    "    def __init__(self, X, Y):\n",
    "        self.X = torch.tensor(X, dtype=torch.float32).unsqueeze(-1)\n",
    "        self.Y = torch.tensor(Y, dtype=torch.long)\n",
    "    \n",
    "    def __len__(self):\n",
    "        return len(self.X)\n",
    "    \n",
    "    def __getitem__(self, idx):\n",
    "        return self.X[idx], self.Y[idx]\n",
    "\n",
    "class RNNModel(nn.Module):\n",
    "    def __init__(self, input_size, hidden_size, output_size, model_type=\"RNN\"):\n",
    "        super(RNNModel, self).__init__()\n",
    "        self.hidden_size = hidden_size\n",
    "        self.model_type = model_type\n",
    "        if model_type == \"RNN\":\n",
    "            self.rnn = nn.RNN(input_size, hidden_size, batch_first=True)\n",
    "        elif model_type == \"LSTM\":\n",
    "            self.rnn = nn.LSTM(input_size, hidden_size, batch_first=True)\n",
    "        elif model_type == \"GRU\":\n",
    "            self.rnn = nn.GRU(input_size, hidden_size, batch_first=True)\n",
    "        self.fc = nn.Linear(hidden_size, output_size)\n",
    "    \n",
    "    def forward(self, x):\n",
    "        batch_size = x.size(0)\n",
    "        hidden = self.init_hidden(batch_size, x.device)\n",
    "        out, hidden = self.rnn(x, hidden)\n",
    "        out = self.fc(out)\n",
    "        return out\n",
    "    \n",
    "    def init_hidden(self, batch_size, device):\n",
    "        if self.model_type == \"LSTM\":\n",
    "            return (torch.zeros(1, batch_size, self.hidden_size, device=device),\n",
    "                    torch.zeros(1, batch_size, self.hidden_size, device=device))\n",
    "        return torch.zeros(1, batch_size, self.hidden_size, device=device)\n",
    "    \n",
    "\n",
    "def train_model(model, train_loader, criterion, optimizer, num_epochs, device, model_name=\"model\"):\n",
    "    model.train()\n",
    "    losses = []\n",
    "    best_loss = float('inf')\n",
    "    start_time = time.time()\n",
    "\n",
    "    for epoch in range(num_epochs):\n",
    "        epoch_loss = 0\n",
    "        for inputs, targets in train_loader:\n",
    "            inputs, targets = inputs.to(device), targets.to(device)\n",
    "            optimizer.zero_grad()\n",
    "            outputs = model(inputs)\n",
    "            loss = criterion(outputs.view(-1, 10), targets.view(-1))\n",
    "            loss.backward()\n",
    "            optimizer.step()\n",
    "            epoch_loss += loss.item()\n",
    "        avg_loss = epoch_loss / len(train_loader)\n",
    "        losses.append(avg_loss)\n",
    "        \n",
    "        if avg_loss < best_loss:\n",
    "            best_loss = avg_loss\n",
    "            torch.save(model.state_dict(), f\"{model_name}.pth\")\n",
    "            np.save(f\"{model_name}_losses.npy\", np.array(losses))\n",
    "        \n",
    "        clear_output(wait=True)\n",
    "        print(f'Time {time.time() - start_time:.2f} sec, Epoch {epoch+1}/{num_epochs}, Loss: {losses[-1]:.4f}')\n",
    "    \n",
    "    return losses, model\n",
    "\n",
    "\n",
    "def evaluate_model(model, test_loader, device):\n",
    "    model.eval()\n",
    "    correct = 0\n",
    "    total = 0\n",
    "\n",
    "    with torch.no_grad():\n",
    "        for inputs, targets in test_loader:\n",
    "            inputs, targets = inputs.to(device), targets.to(device)\n",
    "            outputs = model(inputs)\n",
    "            _, predicted = torch.max(outputs, -1)\n",
    "            total += targets.size(0) * targets.size(1)\n",
    "            correct += (predicted == targets).sum().item()\n",
    "    return correct / total\n",
    "\n",
    "\n",
    "def test_model(model_type, model_path, test_loader, device, hidden_size=64):\n",
    "    model = RNNModel(input_size=1, hidden_size=hidden_size, output_size=10, model_type=model_type).to(device)\n",
    "    \n",
    "    model.load_state_dict(torch.load(model_path, map_location=device))\n",
    "    model.eval()\n",
    "    \n",
    "    accuracy = evaluate_model(model, test_loader, device)\n",
    "    print(f\"{model_type} Test Accuracy: {accuracy:.4f}\")\n",
    "    \n",
    "    with torch.no_grad():\n",
    "        sample_inputs, sample_targets = next(iter(test_loader))\n",
    "        sample_inputs = sample_inputs[:1].to(device)\n",
    "        sample_targets = sample_targets[:1].to(device)\n",
    "        outputs = model(sample_inputs)\n",
    "        _, predicted = torch.max(outputs, -1)\n",
    "        print(f\"\\nSample Input: {sample_inputs.squeeze().cpu().numpy()}\")\n",
    "        print(f\"Predicted Output: {predicted.squeeze().cpu().numpy()}\")\n",
    "        print(f\"True Output: {sample_targets.squeeze().cpu().numpy()}\")\n",
    "    \n",
    "    return accuracy\n",
    "\n",
    "\n",
    "def main(models, train_loader, test_loader, **params):\n",
    "    criterion = nn.CrossEntropyLoss()\n",
    "    results = {}\n",
    "    \n",
    "    for name, model in models.items():\n",
    "        print(f\"\\nTraining {name}...\")\n",
    "        optimizer = torch.optim.Adam(model.parameters(), lr=params['learning_rate'])\n",
    "        losses, model = train_model(model, train_loader, criterion, optimizer, params['num_epochs'], device, model_name=name)\n",
    "        accuracy = evaluate_model(model, test_loader, device)\n",
    "        results[name] = {\"losses\": losses, \"accuracy\": accuracy}\n",
    "        print(f\"{name} Test Accuracy: {accuracy:.4f}\")\n",
    "    \n",
    "    plt.figure(figsize=(10, 6))\n",
    "    for name, result in results.items():\n",
    "        plt.plot(result[\"losses\"], label=f\"{name} Loss\")\n",
    "    plt.title(\"Training Loss Comparison\")\n",
    "    plt.xlabel(\"Epoch\")\n",
    "    plt.ylabel(\"Loss\")\n",
    "    plt.legend()\n",
    "    plt.show()"
   ]
  },
  {
   "cell_type": "markdown",
   "id": "17956f54",
   "metadata": {},
   "source": [
    "# **Creation parameters**"
   ]
  },
  {
   "cell_type": "code",
   "execution_count": 3,
   "id": "8501107d",
   "metadata": {},
   "outputs": [],
   "source": [
    "params = {\n",
    "    \"seq_length\": 10,\n",
    "    \"num_samples\": 10000,\n",
    "    \"test_samples\": 1000,\n",
    "    \"hidden_size\": 64,\n",
    "    \"num_epochs\": 15,\n",
    "    \"batch_size\": 32,\n",
    "    \"learning_rate\": .001,\n",
    "}"
   ]
  },
  {
   "cell_type": "markdown",
   "id": "bf6ed0c8",
   "metadata": {},
   "source": [
    "# **Creation datasets**"
   ]
  },
  {
   "cell_type": "code",
   "execution_count": 4,
   "id": "53863551",
   "metadata": {},
   "outputs": [],
   "source": [
    "X, Y = generate_sequences(params[\"seq_length\"], params[\"num_samples\"])\n",
    "X_test, Y_test = generate_sequences(params[\"seq_length\"], params[\"test_samples\"])"
   ]
  },
  {
   "cell_type": "code",
   "execution_count": 5,
   "id": "3dff5ba1",
   "metadata": {},
   "outputs": [],
   "source": [
    "train_dataset = SequenceDataset(X, Y)\n",
    "test_dataset = SequenceDataset(X_test, Y_test)\n",
    "train_loader = DataLoader(train_dataset, batch_size=params[\"batch_size\"], shuffle=True)\n",
    "test_loader = DataLoader(test_dataset, batch_size=params[\"batch_size\"])"
   ]
  },
  {
   "cell_type": "markdown",
   "id": "b969b863",
   "metadata": {},
   "source": [
    "# **Creation models**"
   ]
  },
  {
   "cell_type": "code",
   "execution_count": 58,
   "id": "3061022f",
   "metadata": {},
   "outputs": [],
   "source": [
    "models = {\n",
    "    \"RNN\": RNNModel(input_size=1, hidden_size=params[\"hidden_size\"], output_size=10, model_type=\"RNN\").to(device),\n",
    "    \"LSTM\": RNNModel(input_size=1, hidden_size=params[\"hidden_size\"], output_size=10, model_type=\"LSTM\").to(device),\n",
    "    \"GRU\": RNNModel(input_size=1, hidden_size=params[\"hidden_size\"], output_size=10, model_type=\"GRU\").to(device)\n",
    "}"
   ]
  },
  {
   "cell_type": "markdown",
   "id": "462047a3",
   "metadata": {},
   "source": [
    "# **Train models**"
   ]
  },
  {
   "cell_type": "code",
   "execution_count": 59,
   "id": "e3a6b083",
   "metadata": {},
   "outputs": [
    {
     "name": "stdout",
     "output_type": "stream",
     "text": [
      "Time 5.69 sec, Epoch 15/15, Loss: 0.0848\n",
      "GRU Test Accuracy: 0.9968\n"
     ]
    },
    {
     "data": {
      "image/png": "[encoded data removed]",
      "text/plain": [
       "<Figure size 1000x600 with 1 Axes>"
      ]
     },
     "metadata": {},
     "output_type": "display_data"
    }
   ],
   "source": [
    "main(models, train_loader, test_loader, **params)"
   ]
  },
  {
   "cell_type": "markdown",
   "id": "d0970bf6",
   "metadata": {},
   "source": [
    "# **Testing models**"
   ]
  },
  {
   "cell_type": "code",
   "execution_count": 60,
   "id": "a7d0a186",
   "metadata": {},
   "outputs": [
    {
     "name": "stdout",
     "output_type": "stream",
     "text": [
      "\n",
      "Testing RNN...\n",
      "RNN Test Accuracy: 0.9881\n",
      "\n",
      "Sample Input: [7. 9. 7. 2. 2. 1. 7. 0. 2. 2.]\n",
      "Predicted Output: [7 6 4 9 9 8 4 7 9 9]\n",
      "True Output: [7 6 4 9 9 8 4 7 9 9]\n",
      "\n",
      "Testing LSTM...\n",
      "LSTM Test Accuracy: 0.9999\n",
      "\n",
      "Sample Input: [7. 9. 7. 2. 2. 1. 7. 0. 2. 2.]\n",
      "Predicted Output: [7 6 4 9 9 8 4 7 9 9]\n",
      "True Output: [7 6 4 9 9 8 4 7 9 9]\n",
      "\n",
      "Testing GRU...\n",
      "GRU Test Accuracy: 0.9968\n",
      "\n",
      "Sample Input: [7. 9. 7. 2. 2. 1. 7. 0. 2. 2.]\n",
      "Predicted Output: [7 6 4 9 9 8 4 7 9 9]\n",
      "True Output: [7 6 4 9 9 8 4 7 9 9]\n"
     ]
    }
   ],
   "source": [
    "model_configs = {\n",
    "    \"RNN\": \"RNN.pth\",\n",
    "    \"LSTM\": \"LSTM.pth\",\n",
    "    \"GRU\": \"GRU.pth\"\n",
    "}\n",
    "\n",
    "for model_type, model_path in model_configs.items():\n",
    "    print(f\"\\nTesting {model_type}...\")\n",
    "    test_model(model_type, model_path, test_loader, device, params[\"hidden_size\"])"
   ]
  },
  {
   "cell_type": "markdown",
   "id": "8e2ff07e",
   "metadata": {},
   "source": [
    "# **Task 2: nietzsche.txt with LSTM**"
   ]
  },
  {
   "cell_type": "code",
   "execution_count": 9,
   "id": "f2a7a955",
   "metadata": {},
   "outputs": [
    {
     "name": "stdout",
     "output_type": "stream",
     "text": [
      "length: 600893\n"
     ]
    }
   ],
   "source": [
    "with open('nietzsche.txt', encoding='utf-8') as f:\n",
    "    text = f.read().lower()\n",
    "print('length:', len(text))\n",
    "text = re.sub('[^a-z ]', ' ', text)\n",
    "text = re.sub(r'\\s+', ' ', text)"
   ]
  },
  {
   "cell_type": "code",
   "execution_count": 10,
   "id": "781cdb1e",
   "metadata": {},
   "outputs": [
    {
     "data": {
      "text/plain": [
       "'preface supposing that truth is a woman what then '"
      ]
     },
     "execution_count": 10,
     "metadata": {},
     "output_type": "execute_result"
    }
   ],
   "source": [
    "text[:50]"
   ]
  },
  {
   "cell_type": "code",
   "execution_count": 11,
   "id": "5eb2f834",
   "metadata": {},
   "outputs": [
    {
     "data": {
      "text/plain": [
       "{' ': 0,\n",
       " 'a': 1,\n",
       " 'b': 2,\n",
       " 'c': 3,\n",
       " 'd': 4,\n",
       " 'e': 5,\n",
       " 'f': 6,\n",
       " 'g': 7,\n",
       " 'h': 8,\n",
       " 'i': 9,\n",
       " 'j': 10,\n",
       " 'k': 11,\n",
       " 'l': 12,\n",
       " 'm': 13,\n",
       " 'n': 14,\n",
       " 'o': 15,\n",
       " 'p': 16,\n",
       " 'q': 17,\n",
       " 'r': 18,\n",
       " 's': 19,\n",
       " 't': 20,\n",
       " 'u': 21,\n",
       " 'v': 22,\n",
       " 'w': 23,\n",
       " 'x': 24,\n",
       " 'y': 25,\n",
       " 'z': 26}"
      ]
     },
     "execution_count": 11,
     "metadata": {},
     "output_type": "execute_result"
    }
   ],
   "source": [
    "INDEX_TO_CHAR = sorted(list(set(text)))\n",
    "CHAR_TO_INDEX = {c: i for i, c in enumerate(INDEX_TO_CHAR)}\n",
    "\n",
    "CHAR_TO_INDEX"
   ]
  },
  {
   "cell_type": "code",
   "execution_count": 12,
   "id": "b95e39f5",
   "metadata": {},
   "outputs": [
    {
     "name": "stdout",
     "output_type": "stream",
     "text": [
      "Num sents: 193075\n"
     ]
    }
   ],
   "source": [
    "MAX_LEN = 40\n",
    "STEP = 3\n",
    "SENTENCES = []\n",
    "NEXT_CHARS = []\n",
    "for i in range(0, len(text) - MAX_LEN, STEP):\n",
    "    SENTENCES.append(text[i: i + MAX_LEN])\n",
    "    NEXT_CHARS.append(text[i + MAX_LEN])\n",
    "print('Num sents:', len(SENTENCES))"
   ]
  },
  {
   "cell_type": "code",
   "execution_count": 13,
   "id": "6bbc2a2f",
   "metadata": {},
   "outputs": [
    {
     "data": {
      "text/plain": [
       "['preface supposing that truth is a woman ',\n",
       " 'face supposing that truth is a woman wha',\n",
       " 'e supposing that truth is a woman what t',\n",
       " 'upposing that truth is a woman what then',\n",
       " 'osing that truth is a woman what then is',\n",
       " 'ng that truth is a woman what then is th',\n",
       " 'that truth is a woman what then is there',\n",
       " 't truth is a woman what then is there no',\n",
       " 'ruth is a woman what then is there not g',\n",
       " 'h is a woman what then is there not grou']"
      ]
     },
     "execution_count": 13,
     "metadata": {},
     "output_type": "execute_result"
    }
   ],
   "source": [
    "SENTENCES[:10]"
   ]
  },
  {
   "cell_type": "code",
   "execution_count": 14,
   "id": "e59bb635",
   "metadata": {},
   "outputs": [
    {
     "data": {
      "text/plain": [
       "['w', 't', 'h', ' ', ' ', 'e', ' ', 't', 'r', 'n']"
      ]
     },
     "execution_count": 14,
     "metadata": {},
     "output_type": "execute_result"
    }
   ],
   "source": [
    "NEXT_CHARS[:10]"
   ]
  },
  {
   "cell_type": "code",
   "execution_count": 15,
   "id": "ac138f38",
   "metadata": {},
   "outputs": [
    {
     "name": "stdout",
     "output_type": "stream",
     "text": [
      "Vectorization...\n"
     ]
    }
   ],
   "source": [
    "print('Vectorization...')\n",
    "X = torch.zeros((len(SENTENCES), MAX_LEN), dtype=int)\n",
    "Y = torch.zeros((len(SENTENCES)), dtype=int)\n",
    "for i, sentence in enumerate(SENTENCES):\n",
    "    for t, char in enumerate(sentence):\n",
    "        X[i, t] = CHAR_TO_INDEX[char]\n",
    "    Y[i] = CHAR_TO_INDEX[NEXT_CHARS[i]]"
   ]
  },
  {
   "cell_type": "code",
   "execution_count": 48,
   "id": "9e7481c1",
   "metadata": {},
   "outputs": [
    {
     "data": {
      "text/plain": [
       "(tensor([16, 18,  5,  6,  1,  3,  5,  0, 19, 21, 16, 16, 15, 19,  9, 14,  7,  0,\n",
       "         20,  8,  1, 20,  0, 20, 18, 21, 20,  8,  0,  9, 19,  0,  1,  0, 23, 15,\n",
       "         13,  1, 14,  0]),\n",
       " tensor(23))"
      ]
     },
     "execution_count": 48,
     "metadata": {},
     "output_type": "execute_result"
    }
   ],
   "source": [
    "X[0], Y[0]"
   ]
  },
  {
   "cell_type": "code",
   "execution_count": 17,
   "id": "e4ebf5c9",
   "metadata": {},
   "outputs": [],
   "source": [
    "BATCH_SIZE=512\n",
    "dataset = torch.utils.data.TensorDataset(X, Y)\n",
    "data = torch.utils.data.DataLoader(dataset, BATCH_SIZE, shuffle=True)"
   ]
  },
  {
   "cell_type": "code",
   "execution_count": 18,
   "id": "81769821",
   "metadata": {},
   "outputs": [],
   "source": [
    "class NeuralNetwork(nn.Module):\n",
    "    def __init__(self, rnnClass, dictionary_size, embedding_size, num_hiddens, num_classes):\n",
    "        super().__init__()\n",
    "        \n",
    "        self.num_hiddens = num_hiddens\n",
    "        self.embedding = nn.Embedding(dictionary_size, embedding_size)\n",
    "        self.hidden = rnnClass(embedding_size, num_hiddens, batch_first=True)\n",
    "        self.output = nn.Linear(num_hiddens, num_classes)\n",
    "        \n",
    "    def forward(self, X):\n",
    "        out = self.embedding(X)\n",
    "        out, (hidden_state, _) = self.hidden(out)\n",
    "        predictions = self.output(hidden_state[-1])\n",
    "        return predictions"
   ]
  },
  {
   "cell_type": "code",
   "execution_count": 19,
   "id": "3fdf3e43",
   "metadata": {},
   "outputs": [],
   "source": [
    "model = NeuralNetwork(nn.LSTM, len(CHAR_TO_INDEX), 64, 128, len(CHAR_TO_INDEX))"
   ]
  },
  {
   "cell_type": "code",
   "execution_count": 49,
   "id": "711f9c13",
   "metadata": {},
   "outputs": [
    {
     "data": {
      "text/plain": [
       "torch.Size([193075, 40])"
      ]
     },
     "execution_count": 49,
     "metadata": {},
     "output_type": "execute_result"
    }
   ],
   "source": [
    "X.shape"
   ]
  },
  {
   "cell_type": "code",
   "execution_count": 20,
   "id": "e5b9441c",
   "metadata": {},
   "outputs": [
    {
     "data": {
      "text/plain": [
       "tensor([[ 0.1330, -0.0277,  0.1203, -0.1097,  0.0996,  0.0657,  0.0331, -0.0684,\n",
       "          0.0117,  0.0137,  0.0021, -0.0963, -0.2104, -0.0564,  0.0565, -0.0765,\n",
       "          0.0686, -0.0027,  0.1553,  0.0902, -0.1050, -0.1091, -0.0713,  0.1320,\n",
       "         -0.0563, -0.0622,  0.0227]], grad_fn=<AddmmBackward0>)"
      ]
     },
     "execution_count": 20,
     "metadata": {},
     "output_type": "execute_result"
    }
   ],
   "source": [
    "model(X[0:1])"
   ]
  },
  {
   "cell_type": "code",
   "execution_count": 21,
   "id": "fe958893",
   "metadata": {},
   "outputs": [],
   "source": [
    "model = model.cuda()"
   ]
  },
  {
   "cell_type": "code",
   "execution_count": 22,
   "id": "ba6504ce",
   "metadata": {},
   "outputs": [],
   "source": [
    "def sample(preds):\n",
    "    softmaxed = torch.softmax(preds, 0)\n",
    "    probas = torch.distributions.multinomial.Multinomial(1, softmaxed).sample()\n",
    "    return probas.argmax()\n",
    "\n",
    "def generate_text():\n",
    "    start_index = random.randint(0, len(text) - MAX_LEN - 1)\n",
    "\n",
    "    generated = ''\n",
    "    sentence = text[start_index: start_index + MAX_LEN]\n",
    "    generated += sentence\n",
    "\n",
    "    for i in range(MAX_LEN):\n",
    "        x_pred = torch.zeros((1, MAX_LEN), dtype=int)\n",
    "        for t, char in enumerate(generated[-MAX_LEN:]):\n",
    "            x_pred[0, t] = CHAR_TO_INDEX[char]\n",
    "\n",
    "        preds = model(x_pred.cuda())[0].cpu()\n",
    "        next_char = INDEX_TO_CHAR[sample(preds)]\n",
    "        generated = generated + next_char\n",
    "\n",
    "    print(generated[:MAX_LEN] + '|' + generated[MAX_LEN:])"
   ]
  },
  {
   "cell_type": "code",
   "execution_count": 23,
   "id": "46f9a818",
   "metadata": {},
   "outputs": [
    {
     "name": "stdout",
     "output_type": "stream",
     "text": [
      "s conscience will look down upon with sc|wpusgs hedzijdcpedylpfiftzvmlrxgmocsid y\n"
     ]
    }
   ],
   "source": [
    "generate_text()"
   ]
  },
  {
   "cell_type": "code",
   "execution_count": 24,
   "id": "5efed2bb",
   "metadata": {},
   "outputs": [],
   "source": [
    "criterion = torch.nn.CrossEntropyLoss()\n",
    "optimizer = torch.optim.Adam(model.parameters())"
   ]
  },
  {
   "cell_type": "code",
   "execution_count": 27,
   "id": "be2cc49b",
   "metadata": {},
   "outputs": [
    {
     "name": "stdout",
     "output_type": "stream",
     "text": [
      "Epoch 99. Time: 2.931, Train loss: 0.930\n",
      "and displays the noble soul has no aptit|ude that according to him of magic mind \n"
     ]
    }
   ],
   "source": [
    "for ep in range(100):\n",
    "    start = time.time()\n",
    "    train_loss = 0.\n",
    "    train_passed = 0\n",
    "\n",
    "    model.train()\n",
    "    for X_b, y_b in tqdm.tqdm(data):\n",
    "        X_b, y_b = X_b.cuda(), y_b.cuda()\n",
    "        optimizer.zero_grad()\n",
    "        answers = model.forward(X_b)\n",
    "        loss = criterion(answers, y_b)\n",
    "        train_loss += loss.item()\n",
    "\n",
    "        loss.backward()\n",
    "        optimizer.step()\n",
    "        train_passed += 1\n",
    "\n",
    "    clear_output(wait=True)\n",
    "\n",
    "    print(\"Epoch {}. Time: {:.3f}, Train loss: {:.3f}\".format(ep, time.time() - start, train_loss / train_passed))\n",
    "    model.eval()\n",
    "    generate_text()"
   ]
  },
  {
   "cell_type": "code",
   "execution_count": 50,
   "id": "3be47ffe",
   "metadata": {},
   "outputs": [
    {
     "name": "stdout",
     "output_type": "stream",
     "text": [
      "ame that this divinity lacks and in gene|ral equalitable absurding life is only i\n"
     ]
    }
   ],
   "source": [
    "model.eval()\n",
    "generate_text()"
   ]
  },
  {
   "cell_type": "code",
   "execution_count": 51,
   "id": "b7768252",
   "metadata": {},
   "outputs": [
    {
     "data": {
      "text/plain": [
       "'divinity lacks and in general there are good groun'"
      ]
     },
     "execution_count": 51,
     "metadata": {},
     "output_type": "execute_result"
    }
   ],
   "source": [
    "start_idx = text.index('divinity lacks and')\n",
    "text[start_idx: start_idx + 50]"
   ]
  }
 ],
 "metadata": {
  "kernelspec": {
   "display_name": ".venv",
   "language": "python",
   "name": "python3"
  },
  "language_info": {
   "codemirror_mode": {
    "name": "ipython",
    "version": 3
   },
   "file_extension": ".py",
   "mimetype": "text/x-python",
   "name": "python",
   "nbconvert_exporter": "python",
   "pygments_lexer": "ipython3",
   "version": "3.13.0"
  }
 },
 "nbformat": 4,
 "nbformat_minor": 5
}
